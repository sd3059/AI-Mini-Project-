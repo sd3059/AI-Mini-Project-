{
 "cells": [
  {
   "cell_type": "code",
   "execution_count": 2,
   "id": "53ccb6d8-f77e-4603-8198-4ba8abf20643",
   "metadata": {
    "tags": []
   },
   "outputs": [],
   "source": [
    "import numpy as np\n",
    "import pandas as pd\n",
    "import matplotlib.pyplot as plt\n",
    "import tensorflow as tf\n",
    "from tensorflow.keras.models import Model, Sequential\n",
    "from tensorflow.keras.layers import Dense, Conv2D, Dropout, BatchNormalization, Flatten, GlobalAveragePooling2D, MaxPool2D\n",
    "from tensorflow.keras.regularizers import L2\n",
    "from tensorflow.keras.preprocessing.image import ImageDataGenerator"
   ]
  },
  {
   "cell_type": "code",
   "execution_count": null,
   "id": "e6c55a3a-e9b3-4ccb-a1a5-1b0e74fbfb0d",
   "metadata": {
    "tags": []
   },
   "outputs": [],
   "source": [
    "df = pd.read_csv(\"A_Z Handwritten Data.csv\")"
   ]
  },
  {
   "cell_type": "code",
   "execution_count": 4,
   "id": "6d0feaed-88db-4c85-823c-925024ce3085",
   "metadata": {
    "tags": []
   },
   "outputs": [],
   "source": [
    "x = df.drop('0', axis = 'columns')"
   ]
  },
  {
   "cell_type": "code",
   "execution_count": 5,
   "id": "4bfd757a-ab78-41e1-8643-1cd064c2c3bd",
   "metadata": {
    "tags": []
   },
   "outputs": [],
   "source": [
    "y = df['0']"
   ]
  },
  {
   "cell_type": "code",
   "execution_count": 6,
   "id": "9a262213-26da-46fd-a4a9-118176ab2b68",
   "metadata": {
    "tags": []
   },
   "outputs": [
    {
     "data": {
      "text/html": [
       "<div>\n",
       "<style scoped>\n",
       "    .dataframe tbody tr th:only-of-type {\n",
       "        vertical-align: middle;\n",
       "    }\n",
       "\n",
       "    .dataframe tbody tr th {\n",
       "        vertical-align: top;\n",
       "    }\n",
       "\n",
       "    .dataframe thead th {\n",
       "        text-align: right;\n",
       "    }\n",
       "</style>\n",
       "<table border=\"1\" class=\"dataframe\">\n",
       "  <thead>\n",
       "    <tr style=\"text-align: right;\">\n",
       "      <th></th>\n",
       "      <th>0.1</th>\n",
       "      <th>0.2</th>\n",
       "      <th>0.3</th>\n",
       "      <th>0.4</th>\n",
       "      <th>0.5</th>\n",
       "      <th>0.6</th>\n",
       "      <th>0.7</th>\n",
       "      <th>0.8</th>\n",
       "      <th>0.9</th>\n",
       "      <th>0.10</th>\n",
       "      <th>...</th>\n",
       "      <th>0.639</th>\n",
       "      <th>0.640</th>\n",
       "      <th>0.641</th>\n",
       "      <th>0.642</th>\n",
       "      <th>0.643</th>\n",
       "      <th>0.644</th>\n",
       "      <th>0.645</th>\n",
       "      <th>0.646</th>\n",
       "      <th>0.647</th>\n",
       "      <th>0.648</th>\n",
       "    </tr>\n",
       "  </thead>\n",
       "  <tbody>\n",
       "    <tr>\n",
       "      <th>0</th>\n",
       "      <td>0</td>\n",
       "      <td>0</td>\n",
       "      <td>0</td>\n",
       "      <td>0</td>\n",
       "      <td>0</td>\n",
       "      <td>0</td>\n",
       "      <td>0</td>\n",
       "      <td>0</td>\n",
       "      <td>0</td>\n",
       "      <td>0</td>\n",
       "      <td>...</td>\n",
       "      <td>0</td>\n",
       "      <td>0</td>\n",
       "      <td>0</td>\n",
       "      <td>0</td>\n",
       "      <td>0</td>\n",
       "      <td>0</td>\n",
       "      <td>0</td>\n",
       "      <td>0</td>\n",
       "      <td>0</td>\n",
       "      <td>0</td>\n",
       "    </tr>\n",
       "    <tr>\n",
       "      <th>1</th>\n",
       "      <td>0</td>\n",
       "      <td>0</td>\n",
       "      <td>0</td>\n",
       "      <td>0</td>\n",
       "      <td>0</td>\n",
       "      <td>0</td>\n",
       "      <td>0</td>\n",
       "      <td>0</td>\n",
       "      <td>0</td>\n",
       "      <td>0</td>\n",
       "      <td>...</td>\n",
       "      <td>0</td>\n",
       "      <td>0</td>\n",
       "      <td>0</td>\n",
       "      <td>0</td>\n",
       "      <td>0</td>\n",
       "      <td>0</td>\n",
       "      <td>0</td>\n",
       "      <td>0</td>\n",
       "      <td>0</td>\n",
       "      <td>0</td>\n",
       "    </tr>\n",
       "    <tr>\n",
       "      <th>2</th>\n",
       "      <td>0</td>\n",
       "      <td>0</td>\n",
       "      <td>0</td>\n",
       "      <td>0</td>\n",
       "      <td>0</td>\n",
       "      <td>0</td>\n",
       "      <td>0</td>\n",
       "      <td>0</td>\n",
       "      <td>0</td>\n",
       "      <td>0</td>\n",
       "      <td>...</td>\n",
       "      <td>0</td>\n",
       "      <td>0</td>\n",
       "      <td>0</td>\n",
       "      <td>0</td>\n",
       "      <td>0</td>\n",
       "      <td>0</td>\n",
       "      <td>0</td>\n",
       "      <td>0</td>\n",
       "      <td>0</td>\n",
       "      <td>0</td>\n",
       "    </tr>\n",
       "    <tr>\n",
       "      <th>3</th>\n",
       "      <td>0</td>\n",
       "      <td>0</td>\n",
       "      <td>0</td>\n",
       "      <td>0</td>\n",
       "      <td>0</td>\n",
       "      <td>0</td>\n",
       "      <td>0</td>\n",
       "      <td>0</td>\n",
       "      <td>0</td>\n",
       "      <td>0</td>\n",
       "      <td>...</td>\n",
       "      <td>0</td>\n",
       "      <td>0</td>\n",
       "      <td>0</td>\n",
       "      <td>0</td>\n",
       "      <td>0</td>\n",
       "      <td>0</td>\n",
       "      <td>0</td>\n",
       "      <td>0</td>\n",
       "      <td>0</td>\n",
       "      <td>0</td>\n",
       "    </tr>\n",
       "    <tr>\n",
       "      <th>4</th>\n",
       "      <td>0</td>\n",
       "      <td>0</td>\n",
       "      <td>0</td>\n",
       "      <td>0</td>\n",
       "      <td>0</td>\n",
       "      <td>0</td>\n",
       "      <td>0</td>\n",
       "      <td>0</td>\n",
       "      <td>0</td>\n",
       "      <td>0</td>\n",
       "      <td>...</td>\n",
       "      <td>0</td>\n",
       "      <td>0</td>\n",
       "      <td>0</td>\n",
       "      <td>0</td>\n",
       "      <td>0</td>\n",
       "      <td>0</td>\n",
       "      <td>0</td>\n",
       "      <td>0</td>\n",
       "      <td>0</td>\n",
       "      <td>0</td>\n",
       "    </tr>\n",
       "    <tr>\n",
       "      <th>...</th>\n",
       "      <td>...</td>\n",
       "      <td>...</td>\n",
       "      <td>...</td>\n",
       "      <td>...</td>\n",
       "      <td>...</td>\n",
       "      <td>...</td>\n",
       "      <td>...</td>\n",
       "      <td>...</td>\n",
       "      <td>...</td>\n",
       "      <td>...</td>\n",
       "      <td>...</td>\n",
       "      <td>...</td>\n",
       "      <td>...</td>\n",
       "      <td>...</td>\n",
       "      <td>...</td>\n",
       "      <td>...</td>\n",
       "      <td>...</td>\n",
       "      <td>...</td>\n",
       "      <td>...</td>\n",
       "      <td>...</td>\n",
       "      <td>...</td>\n",
       "    </tr>\n",
       "    <tr>\n",
       "      <th>372445</th>\n",
       "      <td>0</td>\n",
       "      <td>0</td>\n",
       "      <td>0</td>\n",
       "      <td>0</td>\n",
       "      <td>0</td>\n",
       "      <td>0</td>\n",
       "      <td>0</td>\n",
       "      <td>0</td>\n",
       "      <td>0</td>\n",
       "      <td>0</td>\n",
       "      <td>...</td>\n",
       "      <td>0</td>\n",
       "      <td>0</td>\n",
       "      <td>0</td>\n",
       "      <td>0</td>\n",
       "      <td>0</td>\n",
       "      <td>0</td>\n",
       "      <td>0</td>\n",
       "      <td>0</td>\n",
       "      <td>0</td>\n",
       "      <td>0</td>\n",
       "    </tr>\n",
       "    <tr>\n",
       "      <th>372446</th>\n",
       "      <td>0</td>\n",
       "      <td>0</td>\n",
       "      <td>0</td>\n",
       "      <td>0</td>\n",
       "      <td>0</td>\n",
       "      <td>0</td>\n",
       "      <td>0</td>\n",
       "      <td>0</td>\n",
       "      <td>0</td>\n",
       "      <td>0</td>\n",
       "      <td>...</td>\n",
       "      <td>0</td>\n",
       "      <td>0</td>\n",
       "      <td>0</td>\n",
       "      <td>0</td>\n",
       "      <td>0</td>\n",
       "      <td>0</td>\n",
       "      <td>0</td>\n",
       "      <td>0</td>\n",
       "      <td>0</td>\n",
       "      <td>0</td>\n",
       "    </tr>\n",
       "    <tr>\n",
       "      <th>372447</th>\n",
       "      <td>0</td>\n",
       "      <td>0</td>\n",
       "      <td>0</td>\n",
       "      <td>0</td>\n",
       "      <td>0</td>\n",
       "      <td>0</td>\n",
       "      <td>0</td>\n",
       "      <td>0</td>\n",
       "      <td>0</td>\n",
       "      <td>0</td>\n",
       "      <td>...</td>\n",
       "      <td>0</td>\n",
       "      <td>0</td>\n",
       "      <td>0</td>\n",
       "      <td>0</td>\n",
       "      <td>0</td>\n",
       "      <td>0</td>\n",
       "      <td>0</td>\n",
       "      <td>0</td>\n",
       "      <td>0</td>\n",
       "      <td>0</td>\n",
       "    </tr>\n",
       "    <tr>\n",
       "      <th>372448</th>\n",
       "      <td>0</td>\n",
       "      <td>0</td>\n",
       "      <td>0</td>\n",
       "      <td>0</td>\n",
       "      <td>0</td>\n",
       "      <td>0</td>\n",
       "      <td>0</td>\n",
       "      <td>0</td>\n",
       "      <td>0</td>\n",
       "      <td>0</td>\n",
       "      <td>...</td>\n",
       "      <td>0</td>\n",
       "      <td>0</td>\n",
       "      <td>0</td>\n",
       "      <td>0</td>\n",
       "      <td>0</td>\n",
       "      <td>0</td>\n",
       "      <td>0</td>\n",
       "      <td>0</td>\n",
       "      <td>0</td>\n",
       "      <td>0</td>\n",
       "    </tr>\n",
       "    <tr>\n",
       "      <th>372449</th>\n",
       "      <td>0</td>\n",
       "      <td>0</td>\n",
       "      <td>0</td>\n",
       "      <td>0</td>\n",
       "      <td>0</td>\n",
       "      <td>0</td>\n",
       "      <td>0</td>\n",
       "      <td>0</td>\n",
       "      <td>0</td>\n",
       "      <td>0</td>\n",
       "      <td>...</td>\n",
       "      <td>0</td>\n",
       "      <td>0</td>\n",
       "      <td>0</td>\n",
       "      <td>0</td>\n",
       "      <td>0</td>\n",
       "      <td>0</td>\n",
       "      <td>0</td>\n",
       "      <td>0</td>\n",
       "      <td>0</td>\n",
       "      <td>0</td>\n",
       "    </tr>\n",
       "  </tbody>\n",
       "</table>\n",
       "<p>372450 rows × 784 columns</p>\n",
       "</div>"
      ],
      "text/plain": [
       "        0.1  0.2  0.3  0.4  0.5  0.6  0.7  0.8  0.9  0.10  ...  0.639  0.640  \\\n",
       "0         0    0    0    0    0    0    0    0    0     0  ...      0      0   \n",
       "1         0    0    0    0    0    0    0    0    0     0  ...      0      0   \n",
       "2         0    0    0    0    0    0    0    0    0     0  ...      0      0   \n",
       "3         0    0    0    0    0    0    0    0    0     0  ...      0      0   \n",
       "4         0    0    0    0    0    0    0    0    0     0  ...      0      0   \n",
       "...     ...  ...  ...  ...  ...  ...  ...  ...  ...   ...  ...    ...    ...   \n",
       "372445    0    0    0    0    0    0    0    0    0     0  ...      0      0   \n",
       "372446    0    0    0    0    0    0    0    0    0     0  ...      0      0   \n",
       "372447    0    0    0    0    0    0    0    0    0     0  ...      0      0   \n",
       "372448    0    0    0    0    0    0    0    0    0     0  ...      0      0   \n",
       "372449    0    0    0    0    0    0    0    0    0     0  ...      0      0   \n",
       "\n",
       "        0.641  0.642  0.643  0.644  0.645  0.646  0.647  0.648  \n",
       "0           0      0      0      0      0      0      0      0  \n",
       "1           0      0      0      0      0      0      0      0  \n",
       "2           0      0      0      0      0      0      0      0  \n",
       "3           0      0      0      0      0      0      0      0  \n",
       "4           0      0      0      0      0      0      0      0  \n",
       "...       ...    ...    ...    ...    ...    ...    ...    ...  \n",
       "372445      0      0      0      0      0      0      0      0  \n",
       "372446      0      0      0      0      0      0      0      0  \n",
       "372447      0      0      0      0      0      0      0      0  \n",
       "372448      0      0      0      0      0      0      0      0  \n",
       "372449      0      0      0      0      0      0      0      0  \n",
       "\n",
       "[372450 rows x 784 columns]"
      ]
     },
     "execution_count": 6,
     "metadata": {},
     "output_type": "execute_result"
    }
   ],
   "source": [
    "x"
   ]
  },
  {
   "cell_type": "code",
   "execution_count": 7,
   "id": "28b5ee4d-8b80-4cc8-9e5a-fa4f60057f08",
   "metadata": {
    "tags": []
   },
   "outputs": [
    {
     "data": {
      "text/plain": [
       "0    0\n",
       "1    0\n",
       "2    0\n",
       "3    0\n",
       "4    0\n",
       "Name: 0, dtype: int64"
      ]
     },
     "execution_count": 7,
     "metadata": {},
     "output_type": "execute_result"
    }
   ],
   "source": [
    "y.head()"
   ]
  },
  {
   "cell_type": "code",
   "execution_count": 7,
   "id": "6c309c0c-b5c3-44c5-a4f6-4ab51fc3bb47",
   "metadata": {
    "tags": []
   },
   "outputs": [
    {
     "data": {
      "text/plain": [
       "array([ 0,  1,  2,  3,  4,  5,  6,  7,  8,  9, 10, 11, 12, 13, 14, 15, 16,\n",
       "       17, 18, 19, 20, 21, 22, 23, 24, 25])"
      ]
     },
     "execution_count": 7,
     "metadata": {},
     "output_type": "execute_result"
    }
   ],
   "source": [
    "y.unique()"
   ]
  },
  {
   "cell_type": "code",
   "execution_count": 8,
   "id": "728fac2e-05e0-46d9-8b20-95f2e28a4ae9",
   "metadata": {
    "tags": []
   },
   "outputs": [
    {
     "data": {
      "text/plain": [
       "372450"
      ]
     },
     "execution_count": 8,
     "metadata": {},
     "output_type": "execute_result"
    }
   ],
   "source": [
    "sum(y.value_counts())"
   ]
  },
  {
   "cell_type": "code",
   "execution_count": 28,
   "id": "d6453b38-4efe-4f17-82c5-af87406bb531",
   "metadata": {
    "scrolled": true,
    "tags": []
   },
   "outputs": [
    {
     "data": {
      "text/plain": [
       "Int64Index([14, 18, 20,  2, 19, 15, 13,  0, 12, 11, 17,  4, 24, 22,  3,  1,  9,\n",
       "             7, 23, 25, 16,  6, 10, 21,  5,  8],\n",
       "           dtype='int64')"
      ]
     },
     "execution_count": 28,
     "metadata": {},
     "output_type": "execute_result"
    }
   ],
   "source": [
    "y.value_counts().index"
   ]
  },
  {
   "cell_type": "code",
   "execution_count": 9,
   "id": "8458c247-4d69-476c-a6e8-a4385179b163",
   "metadata": {
    "tags": []
   },
   "outputs": [
    {
     "data": {
      "text/plain": [
       "<BarContainer object of 26 artists>"
      ]
     },
     "execution_count": 9,
     "metadata": {},
     "output_type": "execute_result"
    },
    {
     "data": {
      "image/png": "[encoded data removed]",
      "text/plain": [
       "<Figure size 432x288 with 1 Axes>"
      ]
     },
     "metadata": {
      "needs_background": "light"
     },
     "output_type": "display_data"
    }
   ],
   "source": [
    "plt.bar(y.value_counts().index, y.value_counts())"
   ]
  },
  {
   "cell_type": "code",
   "execution_count": 10,
   "id": "73fa47ad-19b1-435b-a3e3-a4d8b3f0c9d0",
   "metadata": {
    "scrolled": true,
    "tags": []
   },
   "outputs": [
    {
     "data": {
      "text/plain": [
       "14    57825\n",
       "18    48419\n",
       "20    29008\n",
       "2     23409\n",
       "19    22495\n",
       "15    19341\n",
       "13    19010\n",
       "0     13869\n",
       "12    12336\n",
       "11    11586\n",
       "17    11566\n",
       "4     11440\n",
       "24    10859\n",
       "22    10784\n",
       "3     10134\n",
       "1      8668\n",
       "9      8493\n",
       "7      7218\n",
       "23     6272\n",
       "25     6076\n",
       "16     5812\n",
       "6      5762\n",
       "10     5603\n",
       "21     4182\n",
       "5      1163\n",
       "8      1120\n",
       "Name: 0, dtype: int64"
      ]
     },
     "execution_count": 10,
     "metadata": {},
     "output_type": "execute_result"
    }
   ],
   "source": [
    "y.value_counts()"
   ]
  },
  {
   "cell_type": "code",
   "execution_count": 8,
   "id": "f15082cb-daf9-497e-954c-78fcfc0d3676",
   "metadata": {
    "tags": []
   },
   "outputs": [],
   "source": [
    "x = x.to_numpy()"
   ]
  },
  {
   "cell_type": "code",
   "execution_count": 9,
   "id": "a30eea22-1689-4cbf-8ee2-035dea6682b1",
   "metadata": {
    "tags": []
   },
   "outputs": [],
   "source": [
    "x = x/255."
   ]
  },
  {
   "cell_type": "code",
   "execution_count": 10,
   "id": "101cc759-c1e9-4832-808a-84761fe22519",
   "metadata": {
    "tags": []
   },
   "outputs": [
    {
     "data": {
      "text/plain": [
       "array([[0., 0., 0., ..., 0., 0., 0.],\n",
       "       [0., 0., 0., ..., 0., 0., 0.],\n",
       "       [0., 0., 0., ..., 0., 0., 0.],\n",
       "       ...,\n",
       "       [0., 0., 0., ..., 0., 0., 0.],\n",
       "       [0., 0., 0., ..., 0., 0., 0.],\n",
       "       [0., 0., 0., ..., 0., 0., 0.]])"
      ]
     },
     "execution_count": 10,
     "metadata": {},
     "output_type": "execute_result"
    }
   ],
   "source": [
    "x"
   ]
  },
  {
   "cell_type": "code",
   "execution_count": 11,
   "id": "df1017f9-a960-4063-96e1-2a0c1b0a9256",
   "metadata": {
    "tags": []
   },
   "outputs": [],
   "source": [
    "y = y.to_numpy()"
   ]
  },
  {
   "cell_type": "code",
   "execution_count": 12,
   "id": "0bfdef54-5a0d-4069-a524-40e8e247829d",
   "metadata": {
    "tags": []
   },
   "outputs": [
    {
     "data": {
      "text/plain": [
       "(372450,)"
      ]
     },
     "execution_count": 12,
     "metadata": {},
     "output_type": "execute_result"
    }
   ],
   "source": [
    "y.shape"
   ]
  },
  {
   "cell_type": "code",
   "execution_count": 25,
   "id": "4751b3af-e65d-4e78-82b4-036c38ac95cf",
   "metadata": {
    "tags": []
   },
   "outputs": [
    {
     "data": {
      "text/plain": [
       "array([ 0,  0,  0, ..., 25, 25, 25])"
      ]
     },
     "execution_count": 25,
     "metadata": {},
     "output_type": "execute_result"
    }
   ],
   "source": [
    "y"
   ]
  },
  {
   "cell_type": "code",
   "execution_count": 3,
   "id": "84119c7d-2613-485b-876c-59304c1f22ea",
   "metadata": {
    "tags": []
   },
   "outputs": [
    {
     "ename": "NameError",
     "evalue": "name 'x' is not defined",
     "output_type": "error",
     "traceback": [
      "\u001b[0;31m---------------------------------------------------------------------------\u001b[0m",
      "\u001b[0;31mNameError\u001b[0m                                 Traceback (most recent call last)",
      "\u001b[0;32m<ipython-input-3-3f55f2560870>\u001b[0m in \u001b[0;36m<module>\u001b[0;34m\u001b[0m\n\u001b[0;32m----> 1\u001b[0;31m \u001b[0mnp\u001b[0m\u001b[0;34m.\u001b[0m\u001b[0msave\u001b[0m\u001b[0;34m(\u001b[0m\u001b[0;34m'x'\u001b[0m\u001b[0;34m,\u001b[0m \u001b[0mx\u001b[0m\u001b[0;34m)\u001b[0m\u001b[0;34m\u001b[0m\u001b[0;34m\u001b[0m\u001b[0m\n\u001b[0m\u001b[1;32m      2\u001b[0m \u001b[0mnp\u001b[0m\u001b[0;34m.\u001b[0m\u001b[0msave\u001b[0m\u001b[0;34m(\u001b[0m\u001b[0;34m'y'\u001b[0m\u001b[0;34m,\u001b[0m \u001b[0my\u001b[0m\u001b[0;34m)\u001b[0m\u001b[0;34m\u001b[0m\u001b[0;34m\u001b[0m\u001b[0m\n",
      "\u001b[0;31mNameError\u001b[0m: name 'x' is not defined"
     ]
    }
   ],
   "source": [
    "np.save('x', x)\n",
    "np.save('y', y)"
   ]
  },
  {
   "cell_type": "code",
   "execution_count": 4,
   "id": "42a016f5-2fd4-4d12-9e8b-402e3cf05566",
   "metadata": {
    "tags": []
   },
   "outputs": [],
   "source": [
    "x = np.load('x.npy')\n",
    "y = np.load('y.npy')"
   ]
  },
  {
   "cell_type": "code",
   "execution_count": 4,
   "id": "fae85c87-819a-4bdc-af24-da5fa79d4e1a",
   "metadata": {
    "tags": []
   },
   "outputs": [],
   "source": [
    "y1 = np.zeros((372450, 26))"
   ]
  },
  {
   "cell_type": "code",
   "execution_count": 5,
   "id": "34fd5b34-c1e1-49a6-8de7-f458cc3e3cef",
   "metadata": {
    "scrolled": true,
    "tags": []
   },
   "outputs": [
    {
     "name": "stdout",
     "output_type": "stream",
     "text": [
      "Rows added = 0\n",
      "Rows added = 1000\n",
      "Rows added = 2000\n",
      "Rows added = 3000\n",
      "Rows added = 4000\n",
      "Rows added = 5000\n",
      "Rows added = 6000\n",
      "Rows added = 7000\n",
      "Rows added = 8000\n",
      "Rows added = 9000\n",
      "Rows added = 10000\n",
      "Rows added = 11000\n",
      "Rows added = 12000\n",
      "Rows added = 13000\n",
      "Rows added = 14000\n",
      "Rows added = 15000\n",
      "Rows added = 16000\n",
      "Rows added = 17000\n",
      "Rows added = 18000\n",
      "Rows added = 19000\n",
      "Rows added = 20000\n",
      "Rows added = 21000\n",
      "Rows added = 22000\n",
      "Rows added = 23000\n",
      "Rows added = 24000\n",
      "Rows added = 25000\n",
      "Rows added = 26000\n",
      "Rows added = 27000\n",
      "Rows added = 28000\n",
      "Rows added = 29000\n",
      "Rows added = 30000\n",
      "Rows added = 31000\n",
      "Rows added = 32000\n",
      "Rows added = 33000\n",
      "Rows added = 34000\n",
      "Rows added = 35000\n",
      "Rows added = 36000\n",
      "Rows added = 37000\n",
      "Rows added = 38000\n",
      "Rows added = 39000\n",
      "Rows added = 40000\n",
      "Rows added = 41000\n",
      "Rows added = 42000\n",
      "Rows added = 43000\n",
      "Rows added = 44000\n",
      "Rows added = 45000\n",
      "Rows added = 46000\n",
      "Rows added = 47000\n",
      "Rows added = 48000\n",
      "Rows added = 49000\n",
      "Rows added = 50000\n",
      "Rows added = 51000\n",
      "Rows added = 52000\n",
      "Rows added = 53000\n",
      "Rows added = 54000\n",
      "Rows added = 55000\n",
      "Rows added = 56000\n",
      "Rows added = 57000\n",
      "Rows added = 58000\n",
      "Rows added = 59000\n",
      "Rows added = 60000\n",
      "Rows added = 61000\n",
      "Rows added = 62000\n",
      "Rows added = 63000\n",
      "Rows added = 64000\n",
      "Rows added = 65000\n",
      "Rows added = 66000\n",
      "Rows added = 67000\n",
      "Rows added = 68000\n",
      "Rows added = 69000\n",
      "Rows added = 70000\n",
      "Rows added = 71000\n",
      "Rows added = 72000\n",
      "Rows added = 73000\n",
      "Rows added = 74000\n",
      "Rows added = 75000\n",
      "Rows added = 76000\n",
      "Rows added = 77000\n",
      "Rows added = 78000\n",
      "Rows added = 79000\n",
      "Rows added = 80000\n",
      "Rows added = 81000\n",
      "Rows added = 82000\n",
      "Rows added = 83000\n",
      "Rows added = 84000\n",
      "Rows added = 85000\n",
      "Rows added = 86000\n",
      "Rows added = 87000\n",
      "Rows added = 88000\n",
      "Rows added = 89000\n",
      "Rows added = 90000\n",
      "Rows added = 91000\n",
      "Rows added = 92000\n",
      "Rows added = 93000\n",
      "Rows added = 94000\n",
      "Rows added = 95000\n",
      "Rows added = 96000\n",
      "Rows added = 97000\n",
      "Rows added = 98000\n",
      "Rows added = 99000\n",
      "Rows added = 100000\n",
      "Rows added = 101000\n",
      "Rows added = 102000\n",
      "Rows added = 103000\n",
      "Rows added = 104000\n",
      "Rows added = 105000\n",
      "Rows added = 106000\n",
      "Rows added = 107000\n",
      "Rows added = 108000\n",
      "Rows added = 109000\n",
      "Rows added = 110000\n",
      "Rows added = 111000\n",
      "Rows added = 112000\n",
      "Rows added = 113000\n",
      "Rows added = 114000\n",
      "Rows added = 115000\n",
      "Rows added = 116000\n",
      "Rows added = 117000\n",
      "Rows added = 118000\n",
      "Rows added = 119000\n",
      "Rows added = 120000\n",
      "Rows added = 121000\n",
      "Rows added = 122000\n",
      "Rows added = 123000\n",
      "Rows added = 124000\n",
      "Rows added = 125000\n",
      "Rows added = 126000\n",
      "Rows added = 127000\n",
      "Rows added = 128000\n",
      "Rows added = 129000\n",
      "Rows added = 130000\n",
      "Rows added = 131000\n",
      "Rows added = 132000\n",
      "Rows added = 133000\n",
      "Rows added = 134000\n",
      "Rows added = 135000\n",
      "Rows added = 136000\n",
      "Rows added = 137000\n",
      "Rows added = 138000\n",
      "Rows added = 139000\n",
      "Rows added = 140000\n",
      "Rows added = 141000\n",
      "Rows added = 142000\n",
      "Rows added = 143000\n",
      "Rows added = 144000\n",
      "Rows added = 145000\n",
      "Rows added = 146000\n",
      "Rows added = 147000\n",
      "Rows added = 148000\n",
      "Rows added = 149000\n",
      "Rows added = 150000\n",
      "Rows added = 151000\n",
      "Rows added = 152000\n",
      "Rows added = 153000\n",
      "Rows added = 154000\n",
      "Rows added = 155000\n",
      "Rows added = 156000\n",
      "Rows added = 157000\n",
      "Rows added = 158000\n",
      "Rows added = 159000\n",
      "Rows added = 160000\n",
      "Rows added = 161000\n",
      "Rows added = 162000\n",
      "Rows added = 163000\n",
      "Rows added = 164000\n",
      "Rows added = 165000\n",
      "Rows added = 166000\n",
      "Rows added = 167000\n",
      "Rows added = 168000\n",
      "Rows added = 169000\n",
      "Rows added = 170000\n",
      "Rows added = 171000\n",
      "Rows added = 172000\n",
      "Rows added = 173000\n",
      "Rows added = 174000\n",
      "Rows added = 175000\n",
      "Rows added = 176000\n",
      "Rows added = 177000\n",
      "Rows added = 178000\n",
      "Rows added = 179000\n",
      "Rows added = 180000\n",
      "Rows added = 181000\n",
      "Rows added = 182000\n",
      "Rows added = 183000\n",
      "Rows added = 184000\n",
      "Rows added = 185000\n",
      "Rows added = 186000\n",
      "Rows added = 187000\n",
      "Rows added = 188000\n",
      "Rows added = 189000\n",
      "Rows added = 190000\n",
      "Rows added = 191000\n",
      "Rows added = 192000\n",
      "Rows added = 193000\n",
      "Rows added = 194000\n",
      "Rows added = 195000\n",
      "Rows added = 196000\n",
      "Rows added = 197000\n",
      "Rows added = 198000\n",
      "Rows added = 199000\n",
      "Rows added = 200000\n",
      "Rows added = 201000\n",
      "Rows added = 202000\n",
      "Rows added = 203000\n",
      "Rows added = 204000\n",
      "Rows added = 205000\n",
      "Rows added = 206000\n",
      "Rows added = 207000\n",
      "Rows added = 208000\n",
      "Rows added = 209000\n",
      "Rows added = 210000\n",
      "Rows added = 211000\n",
      "Rows added = 212000\n",
      "Rows added = 213000\n",
      "Rows added = 214000\n",
      "Rows added = 215000\n",
      "Rows added = 216000\n",
      "Rows added = 217000\n",
      "Rows added = 218000\n",
      "Rows added = 219000\n",
      "Rows added = 220000\n",
      "Rows added = 221000\n",
      "Rows added = 222000\n",
      "Rows added = 223000\n",
      "Rows added = 224000\n",
      "Rows added = 225000\n",
      "Rows added = 226000\n",
      "Rows added = 227000\n",
      "Rows added = 228000\n",
      "Rows added = 229000\n",
      "Rows added = 230000\n",
      "Rows added = 231000\n",
      "Rows added = 232000\n",
      "Rows added = 233000\n",
      "Rows added = 234000\n",
      "Rows added = 235000\n",
      "Rows added = 236000\n",
      "Rows added = 237000\n",
      "Rows added = 238000\n",
      "Rows added = 239000\n",
      "Rows added = 240000\n",
      "Rows added = 241000\n",
      "Rows added = 242000\n",
      "Rows added = 243000\n",
      "Rows added = 244000\n",
      "Rows added = 245000\n",
      "Rows added = 246000\n",
      "Rows added = 247000\n",
      "Rows added = 248000\n",
      "Rows added = 249000\n",
      "Rows added = 250000\n",
      "Rows added = 251000\n",
      "Rows added = 252000\n",
      "Rows added = 253000\n",
      "Rows added = 254000\n",
      "Rows added = 255000\n",
      "Rows added = 256000\n",
      "Rows added = 257000\n",
      "Rows added = 258000\n",
      "Rows added = 259000\n",
      "Rows added = 260000\n",
      "Rows added = 261000\n",
      "Rows added = 262000\n",
      "Rows added = 263000\n",
      "Rows added = 264000\n",
      "Rows added = 265000\n",
      "Rows added = 266000\n",
      "Rows added = 267000\n",
      "Rows added = 268000\n",
      "Rows added = 269000\n",
      "Rows added = 270000\n",
      "Rows added = 271000\n",
      "Rows added = 272000\n",
      "Rows added = 273000\n",
      "Rows added = 274000\n",
      "Rows added = 275000\n",
      "Rows added = 276000\n",
      "Rows added = 277000\n",
      "Rows added = 278000\n",
      "Rows added = 279000\n",
      "Rows added = 280000\n",
      "Rows added = 281000\n",
      "Rows added = 282000\n",
      "Rows added = 283000\n",
      "Rows added = 284000\n",
      "Rows added = 285000\n",
      "Rows added = 286000\n",
      "Rows added = 287000\n",
      "Rows added = 288000\n",
      "Rows added = 289000\n",
      "Rows added = 290000\n",
      "Rows added = 291000\n",
      "Rows added = 292000\n",
      "Rows added = 293000\n",
      "Rows added = 294000\n",
      "Rows added = 295000\n",
      "Rows added = 296000\n",
      "Rows added = 297000\n",
      "Rows added = 298000\n",
      "Rows added = 299000\n",
      "Rows added = 300000\n",
      "Rows added = 301000\n",
      "Rows added = 302000\n",
      "Rows added = 303000\n",
      "Rows added = 304000\n",
      "Rows added = 305000\n",
      "Rows added = 306000\n",
      "Rows added = 307000\n",
      "Rows added = 308000\n",
      "Rows added = 309000\n",
      "Rows added = 310000\n",
      "Rows added = 311000\n",
      "Rows added = 312000\n",
      "Rows added = 313000\n",
      "Rows added = 314000\n",
      "Rows added = 315000\n",
      "Rows added = 316000\n",
      "Rows added = 317000\n",
      "Rows added = 318000\n",
      "Rows added = 319000\n",
      "Rows added = 320000\n",
      "Rows added = 321000\n",
      "Rows added = 322000\n",
      "Rows added = 323000\n",
      "Rows added = 324000\n",
      "Rows added = 325000\n",
      "Rows added = 326000\n",
      "Rows added = 327000\n",
      "Rows added = 328000\n",
      "Rows added = 329000\n",
      "Rows added = 330000\n",
      "Rows added = 331000\n",
      "Rows added = 332000\n",
      "Rows added = 333000\n",
      "Rows added = 334000\n",
      "Rows added = 335000\n",
      "Rows added = 336000\n",
      "Rows added = 337000\n",
      "Rows added = 338000\n",
      "Rows added = 339000\n",
      "Rows added = 340000\n",
      "Rows added = 341000\n",
      "Rows added = 342000\n",
      "Rows added = 343000\n",
      "Rows added = 344000\n",
      "Rows added = 345000\n",
      "Rows added = 346000\n",
      "Rows added = 347000\n",
      "Rows added = 348000\n",
      "Rows added = 349000\n",
      "Rows added = 350000\n",
      "Rows added = 351000\n",
      "Rows added = 352000\n",
      "Rows added = 353000\n",
      "Rows added = 354000\n",
      "Rows added = 355000\n",
      "Rows added = 356000\n",
      "Rows added = 357000\n",
      "Rows added = 358000\n",
      "Rows added = 359000\n",
      "Rows added = 360000\n",
      "Rows added = 361000\n",
      "Rows added = 362000\n",
      "Rows added = 363000\n",
      "Rows added = 364000\n",
      "Rows added = 365000\n",
      "Rows added = 366000\n",
      "Rows added = 367000\n",
      "Rows added = 368000\n",
      "Rows added = 369000\n",
      "Rows added = 370000\n",
      "Rows added = 371000\n",
      "Rows added = 372000\n"
     ]
    }
   ],
   "source": [
    "for i in range(372450):\n",
    "    o = y[i]\n",
    "    y1[i][o] = 1\n",
    "    if i%1000 == 0:\n",
    "        print(\"Rows added =\", i)"
   ]
  },
  {
   "cell_type": "code",
   "execution_count": 27,
   "id": "dfa6cc8f-58cf-4499-9c31-d878c8f850f2",
   "metadata": {
    "tags": []
   },
   "outputs": [
    {
     "data": {
      "text/plain": [
       "array([[1., 0., 0., ..., 0., 0., 0.],\n",
       "       [1., 0., 0., ..., 0., 0., 0.],\n",
       "       [1., 0., 0., ..., 0., 0., 0.],\n",
       "       ...,\n",
       "       [0., 0., 0., ..., 0., 0., 1.],\n",
       "       [0., 0., 0., ..., 0., 0., 1.],\n",
       "       [0., 0., 0., ..., 0., 0., 1.]])"
      ]
     },
     "execution_count": 27,
     "metadata": {},
     "output_type": "execute_result"
    }
   ],
   "source": [
    "y1"
   ]
  },
  {
   "cell_type": "code",
   "execution_count": 5,
   "id": "6864da8d-fb8f-4bd6-9067-b3a77a309fe6",
   "metadata": {
    "tags": []
   },
   "outputs": [],
   "source": [
    "from sklearn.model_selection import train_test_split"
   ]
  },
  {
   "cell_type": "code",
   "execution_count": 6,
   "id": "06599331-fbb5-4ce9-b7dc-66ba2771271d",
   "metadata": {
    "tags": []
   },
   "outputs": [],
   "source": [
    "x_train, x_test, y_train, y_test = train_test_split(x,y,test_size = 0.1, random_state = 10)"
   ]
  },
  {
   "cell_type": "code",
   "execution_count": 39,
   "id": "e664c2b4-55d0-44a2-b0cf-b6677adbb489",
   "metadata": {
    "tags": []
   },
   "outputs": [],
   "source": [
    "# np.save('x_test',x_test)\n",
    "np.save('y_test',y_test1)\n",
    "# np.save('x_train',x)\n",
    "# np.save('y_train',y_train)"
   ]
  },
  {
   "cell_type": "code",
   "execution_count": 3,
   "id": "b7399cc5-a0a9-4227-b90f-813cbb0e906e",
   "metadata": {
    "tags": []
   },
   "outputs": [],
   "source": [
    "x = np.load('x_train.npy')\n",
    "y = np.load('y_train.npy')"
   ]
  },
  {
   "cell_type": "code",
   "execution_count": 54,
   "id": "51e586b5-ce2f-426b-ad7a-e3c1d78a3162",
   "metadata": {
    "scrolled": true,
    "tags": []
   },
   "outputs": [
    {
     "data": {
      "image/png": "[encoded data removed]",
      "text/plain": [
       "<Figure size 432x288 with 1 Axes>"
      ]
     },
     "metadata": {
      "needs_background": "light"
     },
     "output_type": "display_data"
    },
    {
     "data": {
      "image/png": "[encoded data removed]",
      "text/plain": [
       "<Figure size 432x288 with 1 Axes>"
      ]
     },
     "metadata": {
      "needs_background": "light"
     },
     "output_type": "display_data"
    },
    {
     "data": {
      "image/png": "[encoded data removed]",
      "text/plain": [
       "<Figure size 432x288 with 1 Axes>"
      ]
     },
     "metadata": {
      "needs_background": "light"
     },
     "output_type": "display_data"
    },
    {
     "data": {
      "image/png": "[encoded data removed]",
      "text/plain": [
       "<Figure size 432x288 with 1 Axes>"
      ]
     },
     "metadata": {
      "needs_background": "light"
     },
     "output_type": "display_data"
    },
    {
     "data": {
      "image/png": "[encoded data removed]",
      "text/plain": [
       "<Figure size 432x288 with 1 Axes>"
      ]
     },
     "metadata": {
      "needs_background": "light"
     },
     "output_type": "display_data"
    }
   ],
   "source": [
    "for i in range(5):\n",
    "    plt.imshow(x_train[i])\n",
    "    plt.show()"
   ]
  },
  {
   "cell_type": "code",
   "execution_count": 10,
   "id": "1b04cf73-ae5c-4b73-a431-293d2aeef512",
   "metadata": {
    "tags": []
   },
   "outputs": [],
   "source": [
    "x_test = np.load('x_test.npy')\n",
    "x_cv = np.load('x_cv.npy')\n"
   ]
  },
  {
   "cell_type": "code",
   "execution_count": 11,
   "id": "1cc05b72-5484-40b8-8c5f-11b2ea82e71a",
   "metadata": {
    "tags": []
   },
   "outputs": [],
   "source": [
    "x_test = x_test.reshape((-1,28, 28, 1))\n",
    "x_cv = x_cv.reshape((-1, 28, 28, 1))"
   ]
  },
  {
   "cell_type": "code",
   "execution_count": 7,
   "id": "d5101c7a-0909-4baa-874b-79cc1459b1ae",
   "metadata": {
    "tags": []
   },
   "outputs": [],
   "source": [
    "x = x.reshape((-1,28, 28, 1))"
   ]
  },
  {
   "cell_type": "code",
   "execution_count": 6,
   "id": "3074e23a-3776-4214-96c1-b98ba13b3c87",
   "metadata": {
    "tags": []
   },
   "outputs": [],
   "source": [
    "x_train, x_cv, y_train, y_cv = train_test_split(x,y,test_size = 0.1, random_state = 10)"
   ]
  },
  {
   "cell_type": "code",
   "execution_count": 41,
   "id": "afed9692-f5b4-4b38-9489-66411ed18188",
   "metadata": {
    "tags": []
   },
   "outputs": [],
   "source": [
    "# np.save('x_cv',x_cv)\n",
    "# np.save('y_cv',y_val)\n",
    "# np.save('x_train',x_train)\n",
    "np.save('y_train',y_tr)"
   ]
  },
  {
   "cell_type": "code",
   "execution_count": 3,
   "id": "ea4aa8eb-32e3-446d-a247-3285dd488ee0",
   "metadata": {
    "tags": []
   },
   "outputs": [],
   "source": [
    "x_train = np.load('x_train.npy')\n",
    "y_train = np.load('y_train.npy')\n",
    "x_cv = np.load('x_cv.npy')\n",
    "y_cv = np.load('y_cv.npy')"
   ]
  },
  {
   "cell_type": "code",
   "execution_count": 9,
   "id": "fa19a687-99cb-4634-b9bf-7d0aa3798a60",
   "metadata": {
    "tags": []
   },
   "outputs": [
    {
     "data": {
      "text/plain": [
       "(33521,)"
      ]
     },
     "execution_count": 9,
     "metadata": {},
     "output_type": "execute_result"
    }
   ],
   "source": [
    "y_cv.shape"
   ]
  },
  {
   "cell_type": "code",
   "execution_count": 10,
   "id": "c11f48ed-79f6-45e8-af7f-45ab8544adb4",
   "metadata": {
    "scrolled": true,
    "tags": []
   },
   "outputs": [
    {
     "name": "stdout",
     "output_type": "stream",
     "text": [
      "Rows added = 0\n",
      "Rows added = 1000\n",
      "Rows added = 2000\n",
      "Rows added = 3000\n",
      "Rows added = 4000\n",
      "Rows added = 5000\n",
      "Rows added = 6000\n",
      "Rows added = 7000\n",
      "Rows added = 8000\n",
      "Rows added = 9000\n",
      "Rows added = 10000\n",
      "Rows added = 11000\n",
      "Rows added = 12000\n",
      "Rows added = 13000\n",
      "Rows added = 14000\n",
      "Rows added = 15000\n",
      "Rows added = 16000\n",
      "Rows added = 17000\n",
      "Rows added = 18000\n",
      "Rows added = 19000\n",
      "Rows added = 20000\n",
      "Rows added = 21000\n",
      "Rows added = 22000\n",
      "Rows added = 23000\n",
      "Rows added = 24000\n",
      "Rows added = 25000\n",
      "Rows added = 26000\n",
      "Rows added = 27000\n",
      "Rows added = 28000\n",
      "Rows added = 29000\n",
      "Rows added = 30000\n",
      "Rows added = 31000\n",
      "Rows added = 32000\n",
      "Rows added = 33000\n"
     ]
    }
   ],
   "source": [
    "y_val = np.zeros((33521, 26))\n",
    "for i in range(33521):\n",
    "    o = y_cv[i]\n",
    "    y_val[i][o] = 1\n",
    "    if i%1000 == 0:\n",
    "        print(\"Rows added =\", i)"
   ]
  },
  {
   "cell_type": "code",
   "execution_count": 14,
   "id": "3632f8a5-36d5-4e9c-a6b3-6a4bd4457a7c",
   "metadata": {
    "tags": []
   },
   "outputs": [
    {
     "data": {
      "text/plain": [
       "(301684,)"
      ]
     },
     "execution_count": 14,
     "metadata": {},
     "output_type": "execute_result"
    }
   ],
   "source": [
    "y_train.shape"
   ]
  },
  {
   "cell_type": "code",
   "execution_count": 15,
   "id": "6c5a7f34-c13e-4f96-9867-71c5246f71e9",
   "metadata": {
    "scrolled": true,
    "tags": []
   },
   "outputs": [
    {
     "name": "stdout",
     "output_type": "stream",
     "text": [
      "Rows added = 0\n",
      "Rows added = 1000\n",
      "Rows added = 2000\n",
      "Rows added = 3000\n",
      "Rows added = 4000\n",
      "Rows added = 5000\n",
      "Rows added = 6000\n",
      "Rows added = 7000\n",
      "Rows added = 8000\n",
      "Rows added = 9000\n",
      "Rows added = 10000\n",
      "Rows added = 11000\n",
      "Rows added = 12000\n",
      "Rows added = 13000\n",
      "Rows added = 14000\n",
      "Rows added = 15000\n",
      "Rows added = 16000\n",
      "Rows added = 17000\n",
      "Rows added = 18000\n",
      "Rows added = 19000\n",
      "Rows added = 20000\n",
      "Rows added = 21000\n",
      "Rows added = 22000\n",
      "Rows added = 23000\n",
      "Rows added = 24000\n",
      "Rows added = 25000\n",
      "Rows added = 26000\n",
      "Rows added = 27000\n",
      "Rows added = 28000\n",
      "Rows added = 29000\n",
      "Rows added = 30000\n",
      "Rows added = 31000\n",
      "Rows added = 32000\n",
      "Rows added = 33000\n",
      "Rows added = 34000\n",
      "Rows added = 35000\n",
      "Rows added = 36000\n",
      "Rows added = 37000\n",
      "Rows added = 38000\n",
      "Rows added = 39000\n",
      "Rows added = 40000\n",
      "Rows added = 41000\n",
      "Rows added = 42000\n",
      "Rows added = 43000\n",
      "Rows added = 44000\n",
      "Rows added = 45000\n",
      "Rows added = 46000\n",
      "Rows added = 47000\n",
      "Rows added = 48000\n",
      "Rows added = 49000\n",
      "Rows added = 50000\n",
      "Rows added = 51000\n",
      "Rows added = 52000\n",
      "Rows added = 53000\n",
      "Rows added = 54000\n",
      "Rows added = 55000\n",
      "Rows added = 56000\n",
      "Rows added = 57000\n",
      "Rows added = 58000\n",
      "Rows added = 59000\n",
      "Rows added = 60000\n",
      "Rows added = 61000\n",
      "Rows added = 62000\n",
      "Rows added = 63000\n",
      "Rows added = 64000\n",
      "Rows added = 65000\n",
      "Rows added = 66000\n",
      "Rows added = 67000\n",
      "Rows added = 68000\n",
      "Rows added = 69000\n",
      "Rows added = 70000\n",
      "Rows added = 71000\n",
      "Rows added = 72000\n",
      "Rows added = 73000\n",
      "Rows added = 74000\n",
      "Rows added = 75000\n",
      "Rows added = 76000\n",
      "Rows added = 77000\n",
      "Rows added = 78000\n",
      "Rows added = 79000\n",
      "Rows added = 80000\n",
      "Rows added = 81000\n",
      "Rows added = 82000\n",
      "Rows added = 83000\n",
      "Rows added = 84000\n",
      "Rows added = 85000\n",
      "Rows added = 86000\n",
      "Rows added = 87000\n",
      "Rows added = 88000\n",
      "Rows added = 89000\n",
      "Rows added = 90000\n",
      "Rows added = 91000\n",
      "Rows added = 92000\n",
      "Rows added = 93000\n",
      "Rows added = 94000\n",
      "Rows added = 95000\n",
      "Rows added = 96000\n",
      "Rows added = 97000\n",
      "Rows added = 98000\n",
      "Rows added = 99000\n",
      "Rows added = 100000\n",
      "Rows added = 101000\n",
      "Rows added = 102000\n",
      "Rows added = 103000\n",
      "Rows added = 104000\n",
      "Rows added = 105000\n",
      "Rows added = 106000\n",
      "Rows added = 107000\n",
      "Rows added = 108000\n",
      "Rows added = 109000\n",
      "Rows added = 110000\n",
      "Rows added = 111000\n",
      "Rows added = 112000\n",
      "Rows added = 113000\n",
      "Rows added = 114000\n",
      "Rows added = 115000\n",
      "Rows added = 116000\n",
      "Rows added = 117000\n",
      "Rows added = 118000\n",
      "Rows added = 119000\n",
      "Rows added = 120000\n",
      "Rows added = 121000\n",
      "Rows added = 122000\n",
      "Rows added = 123000\n",
      "Rows added = 124000\n",
      "Rows added = 125000\n",
      "Rows added = 126000\n",
      "Rows added = 127000\n",
      "Rows added = 128000\n",
      "Rows added = 129000\n",
      "Rows added = 130000\n",
      "Rows added = 131000\n",
      "Rows added = 132000\n",
      "Rows added = 133000\n",
      "Rows added = 134000\n",
      "Rows added = 135000\n",
      "Rows added = 136000\n",
      "Rows added = 137000\n",
      "Rows added = 138000\n",
      "Rows added = 139000\n",
      "Rows added = 140000\n",
      "Rows added = 141000\n",
      "Rows added = 142000\n",
      "Rows added = 143000\n",
      "Rows added = 144000\n",
      "Rows added = 145000\n",
      "Rows added = 146000\n",
      "Rows added = 147000\n",
      "Rows added = 148000\n",
      "Rows added = 149000\n",
      "Rows added = 150000\n",
      "Rows added = 151000\n",
      "Rows added = 152000\n",
      "Rows added = 153000\n",
      "Rows added = 154000\n",
      "Rows added = 155000\n",
      "Rows added = 156000\n",
      "Rows added = 157000\n",
      "Rows added = 158000\n",
      "Rows added = 159000\n",
      "Rows added = 160000\n",
      "Rows added = 161000\n",
      "Rows added = 162000\n",
      "Rows added = 163000\n",
      "Rows added = 164000\n",
      "Rows added = 165000\n",
      "Rows added = 166000\n",
      "Rows added = 167000\n",
      "Rows added = 168000\n",
      "Rows added = 169000\n",
      "Rows added = 170000\n",
      "Rows added = 171000\n",
      "Rows added = 172000\n",
      "Rows added = 173000\n",
      "Rows added = 174000\n",
      "Rows added = 175000\n",
      "Rows added = 176000\n",
      "Rows added = 177000\n",
      "Rows added = 178000\n",
      "Rows added = 179000\n",
      "Rows added = 180000\n",
      "Rows added = 181000\n",
      "Rows added = 182000\n",
      "Rows added = 183000\n",
      "Rows added = 184000\n",
      "Rows added = 185000\n",
      "Rows added = 186000\n",
      "Rows added = 187000\n",
      "Rows added = 188000\n",
      "Rows added = 189000\n",
      "Rows added = 190000\n",
      "Rows added = 191000\n",
      "Rows added = 192000\n",
      "Rows added = 193000\n",
      "Rows added = 194000\n",
      "Rows added = 195000\n",
      "Rows added = 196000\n",
      "Rows added = 197000\n",
      "Rows added = 198000\n",
      "Rows added = 199000\n",
      "Rows added = 200000\n",
      "Rows added = 201000\n",
      "Rows added = 202000\n",
      "Rows added = 203000\n",
      "Rows added = 204000\n",
      "Rows added = 205000\n",
      "Rows added = 206000\n",
      "Rows added = 207000\n",
      "Rows added = 208000\n",
      "Rows added = 209000\n",
      "Rows added = 210000\n",
      "Rows added = 211000\n",
      "Rows added = 212000\n",
      "Rows added = 213000\n",
      "Rows added = 214000\n",
      "Rows added = 215000\n",
      "Rows added = 216000\n",
      "Rows added = 217000\n",
      "Rows added = 218000\n",
      "Rows added = 219000\n",
      "Rows added = 220000\n",
      "Rows added = 221000\n",
      "Rows added = 222000\n",
      "Rows added = 223000\n",
      "Rows added = 224000\n",
      "Rows added = 225000\n",
      "Rows added = 226000\n",
      "Rows added = 227000\n",
      "Rows added = 228000\n",
      "Rows added = 229000\n",
      "Rows added = 230000\n",
      "Rows added = 231000\n",
      "Rows added = 232000\n",
      "Rows added = 233000\n",
      "Rows added = 234000\n",
      "Rows added = 235000\n",
      "Rows added = 236000\n",
      "Rows added = 237000\n",
      "Rows added = 238000\n",
      "Rows added = 239000\n",
      "Rows added = 240000\n",
      "Rows added = 241000\n",
      "Rows added = 242000\n",
      "Rows added = 243000\n",
      "Rows added = 244000\n",
      "Rows added = 245000\n",
      "Rows added = 246000\n",
      "Rows added = 247000\n",
      "Rows added = 248000\n",
      "Rows added = 249000\n",
      "Rows added = 250000\n",
      "Rows added = 251000\n",
      "Rows added = 252000\n",
      "Rows added = 253000\n",
      "Rows added = 254000\n",
      "Rows added = 255000\n",
      "Rows added = 256000\n",
      "Rows added = 257000\n",
      "Rows added = 258000\n",
      "Rows added = 259000\n",
      "Rows added = 260000\n",
      "Rows added = 261000\n",
      "Rows added = 262000\n",
      "Rows added = 263000\n",
      "Rows added = 264000\n",
      "Rows added = 265000\n",
      "Rows added = 266000\n",
      "Rows added = 267000\n",
      "Rows added = 268000\n",
      "Rows added = 269000\n",
      "Rows added = 270000\n",
      "Rows added = 271000\n",
      "Rows added = 272000\n",
      "Rows added = 273000\n",
      "Rows added = 274000\n",
      "Rows added = 275000\n",
      "Rows added = 276000\n",
      "Rows added = 277000\n",
      "Rows added = 278000\n",
      "Rows added = 279000\n",
      "Rows added = 280000\n",
      "Rows added = 281000\n",
      "Rows added = 282000\n",
      "Rows added = 283000\n",
      "Rows added = 284000\n",
      "Rows added = 285000\n",
      "Rows added = 286000\n",
      "Rows added = 287000\n",
      "Rows added = 288000\n",
      "Rows added = 289000\n",
      "Rows added = 290000\n",
      "Rows added = 291000\n",
      "Rows added = 292000\n",
      "Rows added = 293000\n",
      "Rows added = 294000\n",
      "Rows added = 295000\n",
      "Rows added = 296000\n",
      "Rows added = 297000\n",
      "Rows added = 298000\n",
      "Rows added = 299000\n",
      "Rows added = 300000\n",
      "Rows added = 301000\n"
     ]
    }
   ],
   "source": [
    "y_tr = np.zeros((301684, 26))\n",
    "for i in range(301684):\n",
    "    o = y_train[i]\n",
    "    y_tr[i][o] = 1\n",
    "    if i%1000 == 0:\n",
    "        print(\"Rows added =\", i)"
   ]
  },
  {
   "cell_type": "code",
   "execution_count": 40,
   "id": "73015aae-f927-4f15-a3d9-aee4612de01a",
   "metadata": {
    "tags": []
   },
   "outputs": [
    {
     "data": {
      "text/plain": [
       "array([[0., 0., 0., ..., 0., 0., 0.],\n",
       "       [0., 0., 0., ..., 0., 0., 0.],\n",
       "       [0., 0., 0., ..., 0., 0., 0.],\n",
       "       ...,\n",
       "       [0., 0., 0., ..., 0., 0., 0.],\n",
       "       [0., 0., 0., ..., 0., 0., 0.],\n",
       "       [0., 0., 0., ..., 0., 0., 0.]])"
      ]
     },
     "execution_count": 40,
     "metadata": {},
     "output_type": "execute_result"
    }
   ],
   "source": [
    "y_tr"
   ]
  },
  {
   "cell_type": "code",
   "execution_count": 42,
   "id": "8279c179-122f-407a-9494-0301215ae8da",
   "metadata": {
    "tags": []
   },
   "outputs": [
    {
     "data": {
      "text/plain": [
       "array([[0., 0., 0., ..., 0., 0., 0.],\n",
       "       [0., 0., 0., ..., 0., 0., 0.],\n",
       "       [0., 0., 0., ..., 0., 0., 0.],\n",
       "       ...,\n",
       "       [0., 0., 0., ..., 0., 0., 0.],\n",
       "       [0., 0., 0., ..., 0., 0., 0.],\n",
       "       [0., 0., 0., ..., 0., 0., 0.]])"
      ]
     },
     "execution_count": 42,
     "metadata": {},
     "output_type": "execute_result"
    }
   ],
   "source": [
    "y_val"
   ]
  },
  {
   "cell_type": "markdown",
   "id": "77e90a85-e2b9-4a30-9c55-a80ce5d14638",
   "metadata": {},
   "source": [
    "### Model"
   ]
  },
  {
   "cell_type": "code",
   "execution_count": 4,
   "id": "e0091136-39d1-4aa1-8e70-def935b3b5cb",
   "metadata": {
    "tags": []
   },
   "outputs": [],
   "source": [
    "model = Sequential([\n",
    "    Conv2D(32, (3, 3), input_shape = (28, 28, 1), activation = 'relu'),\n",
    "    MaxPool2D((2, 2)),\n",
    "    BatchNormalization(),\n",
    "    \n",
    "    Conv2D(64, (3, 3), input_shape = (28, 28, 1), activation = 'relu'),\n",
    "    MaxPool2D((2, 2)),\n",
    "    BatchNormalization(),\n",
    "    \n",
    "    Flatten(),\n",
    "    Dense(26, activation = 'softmax')\n",
    "])"
   ]
  },
  {
   "cell_type": "code",
   "execution_count": 55,
   "id": "47732f50-76ff-42a0-bc05-3248ad8a08cc",
   "metadata": {
    "scrolled": true,
    "tags": []
   },
   "outputs": [
    {
     "name": "stdout",
     "output_type": "stream",
     "text": [
      "Model: \"sequential\"\n",
      "_________________________________________________________________\n",
      "Layer (type)                 Output Shape              Param #   \n",
      "=================================================================\n",
      "conv2d (Conv2D)              (None, 26, 26, 32)        320       \n",
      "_________________________________________________________________\n",
      "max_pooling2d (MaxPooling2D) (None, 13, 13, 32)        0         \n",
      "_________________________________________________________________\n",
      "batch_normalization (BatchNo (None, 13, 13, 32)        128       \n",
      "_________________________________________________________________\n",
      "conv2d_1 (Conv2D)            (None, 11, 11, 64)        18496     \n",
      "_________________________________________________________________\n",
      "max_pooling2d_1 (MaxPooling2 (None, 5, 5, 64)          0         \n",
      "_________________________________________________________________\n",
      "batch_normalization_1 (Batch (None, 5, 5, 64)          256       \n",
      "_________________________________________________________________\n",
      "flatten (Flatten)            (None, 1600)              0         \n",
      "_________________________________________________________________\n",
      "dense (Dense)                (None, 26)                41626     \n",
      "=================================================================\n",
      "Total params: 60,826\n",
      "Trainable params: 60,634\n",
      "Non-trainable params: 192\n",
      "_________________________________________________________________\n"
     ]
    }
   ],
   "source": [
    "model.summary()"
   ]
  },
  {
   "cell_type": "code",
   "execution_count": 5,
   "id": "d4dfced9-568d-4dfe-9c83-6926cd9dd226",
   "metadata": {
    "tags": []
   },
   "outputs": [],
   "source": [
    "model.compile(loss = 'categorical_crossentropy',\n",
    "              optimizer = 'adam',\n",
    "              metrics = ['accuracy'])"
   ]
  },
  {
   "cell_type": "code",
   "execution_count": 6,
   "id": "645116fc-a5f6-4d45-afa3-29aca4cedd19",
   "metadata": {
    "tags": []
   },
   "outputs": [],
   "source": [
    "cb = tf.keras.callbacks.ModelCheckpoint(filepath = 'model.ckpt', save_weights_only = True, verbose = 1)"
   ]
  },
  {
   "cell_type": "code",
   "execution_count": 19,
   "id": "a85568d9-4c8d-4897-aa40-4dcfa6383ee5",
   "metadata": {
    "tags": []
   },
   "outputs": [],
   "source": [
    "tf.config.run_functions_eagerly(True)"
   ]
  },
  {
   "cell_type": "code",
   "execution_count": 20,
   "id": "069780a2-431f-4161-9e4b-722949b1419c",
   "metadata": {
    "scrolled": true,
    "tags": []
   },
   "outputs": [
    {
     "name": "stderr",
     "output_type": "stream",
     "text": [
      "/usr/local/lib/python3.8/site-packages/tensorflow/python/data/ops/dataset_ops.py:4211: UserWarning: Even though the `tf.config.experimental_run_functions_eagerly` option is set, this option does not apply to tf.data functions. To force eager execution of tf.data functions, please use `tf.data.experimental.enable_debug_mode()`.\n",
      "  warnings.warn(\n"
     ]
    },
    {
     "name": "stdout",
     "output_type": "stream",
     "text": [
      "Epoch 1/10\n",
      "9428/9428 [==============================] - 165s 17ms/step - loss: 0.1126 - accuracy: 0.9687 - val_loss: 0.0726 - val_accuracy: 0.9803\n",
      "\n",
      "Epoch 00001: saving model to model.ckpt\n",
      "Epoch 2/10\n",
      "9428/9428 [==============================] - 164s 17ms/step - loss: 0.0521 - accuracy: 0.9853 - val_loss: 0.0615 - val_accuracy: 0.9833\n",
      "\n",
      "Epoch 00002: saving model to model.ckpt\n",
      "Epoch 3/10\n",
      "9428/9428 [==============================] - 164s 17ms/step - loss: 0.0373 - accuracy: 0.9892 - val_loss: 0.0428 - val_accuracy: 0.9891\n",
      "\n",
      "Epoch 00003: saving model to model.ckpt\n",
      "Epoch 4/10\n",
      "9428/9428 [==============================] - 165s 17ms/step - loss: 0.0278 - accuracy: 0.9916 - val_loss: 0.0406 - val_accuracy: 0.9894\n",
      "\n",
      "Epoch 00004: saving model to model.ckpt\n",
      "Epoch 5/10\n",
      "9428/9428 [==============================] - 164s 17ms/step - loss: 0.0221 - accuracy: 0.9933 - val_loss: 0.0429 - val_accuracy: 0.9896\n",
      "\n",
      "Epoch 00005: saving model to model.ckpt\n",
      "Epoch 6/10\n",
      "9428/9428 [==============================] - 164s 17ms/step - loss: 0.0179 - accuracy: 0.9942 - val_loss: 0.0355 - val_accuracy: 0.9922\n",
      "\n",
      "Epoch 00006: saving model to model.ckpt\n",
      "Epoch 7/10\n",
      "9428/9428 [==============================] - 164s 17ms/step - loss: 0.0142 - accuracy: 0.9953 - val_loss: 0.0364 - val_accuracy: 0.9916\n",
      "\n",
      "Epoch 00007: saving model to model.ckpt\n",
      "Epoch 8/10\n",
      "9428/9428 [==============================] - 167s 18ms/step - loss: 0.0120 - accuracy: 0.9959 - val_loss: 0.0384 - val_accuracy: 0.9923\n",
      "\n",
      "Epoch 00008: saving model to model.ckpt\n",
      "Epoch 9/10\n",
      "5730/9428 [=================>............] - ETA: 1:01 - loss: 0.0095 - accuracy: 0.9969"
     ]
    },
    {
     "ename": "KeyboardInterrupt",
     "evalue": "",
     "output_type": "error",
     "traceback": [
      "\u001b[0;31m---------------------------------------------------------------------------\u001b[0m",
      "\u001b[0;31mKeyboardInterrupt\u001b[0m                         Traceback (most recent call last)",
      "\u001b[0;32m<ipython-input-20-546858657ff5>\u001b[0m in \u001b[0;36m<module>\u001b[0;34m\u001b[0m\n\u001b[0;32m----> 1\u001b[0;31m \u001b[0mmodel\u001b[0m\u001b[0;34m.\u001b[0m\u001b[0mfit\u001b[0m\u001b[0;34m(\u001b[0m\u001b[0mx_train\u001b[0m\u001b[0;34m,\u001b[0m \u001b[0my_tr\u001b[0m\u001b[0;34m,\u001b[0m \u001b[0mepochs\u001b[0m \u001b[0;34m=\u001b[0m \u001b[0;36m10\u001b[0m\u001b[0;34m,\u001b[0m \u001b[0mcallbacks\u001b[0m \u001b[0;34m=\u001b[0m \u001b[0;34m[\u001b[0m\u001b[0mcb\u001b[0m\u001b[0;34m]\u001b[0m\u001b[0;34m,\u001b[0m \u001b[0mvalidation_data\u001b[0m \u001b[0;34m=\u001b[0m \u001b[0;34m(\u001b[0m\u001b[0mx_cv\u001b[0m\u001b[0;34m,\u001b[0m \u001b[0my_val\u001b[0m\u001b[0;34m)\u001b[0m\u001b[0;34m)\u001b[0m\u001b[0;34m\u001b[0m\u001b[0;34m\u001b[0m\u001b[0m\n\u001b[0m",
      "\u001b[0;32m/usr/local/lib/python3.8/site-packages/keras/engine/training.py\u001b[0m in \u001b[0;36mfit\u001b[0;34m(self, x, y, batch_size, epochs, verbose, callbacks, validation_split, validation_data, shuffle, class_weight, sample_weight, initial_epoch, steps_per_epoch, validation_steps, validation_batch_size, validation_freq, max_queue_size, workers, use_multiprocessing)\u001b[0m\n\u001b[1;32m   1182\u001b[0m                 _r=1):\n\u001b[1;32m   1183\u001b[0m               \u001b[0mcallbacks\u001b[0m\u001b[0;34m.\u001b[0m\u001b[0mon_train_batch_begin\u001b[0m\u001b[0;34m(\u001b[0m\u001b[0mstep\u001b[0m\u001b[0;34m)\u001b[0m\u001b[0;34m\u001b[0m\u001b[0;34m\u001b[0m\u001b[0m\n\u001b[0;32m-> 1184\u001b[0;31m               \u001b[0mtmp_logs\u001b[0m \u001b[0;34m=\u001b[0m \u001b[0mself\u001b[0m\u001b[0;34m.\u001b[0m\u001b[0mtrain_function\u001b[0m\u001b[0;34m(\u001b[0m\u001b[0miterator\u001b[0m\u001b[0;34m)\u001b[0m\u001b[0;34m\u001b[0m\u001b[0;34m\u001b[0m\u001b[0m\n\u001b[0m\u001b[1;32m   1185\u001b[0m               \u001b[0;32mif\u001b[0m \u001b[0mdata_handler\u001b[0m\u001b[0;34m.\u001b[0m\u001b[0mshould_sync\u001b[0m\u001b[0;34m:\u001b[0m\u001b[0;34m\u001b[0m\u001b[0;34m\u001b[0m\u001b[0m\n\u001b[1;32m   1186\u001b[0m                 \u001b[0mcontext\u001b[0m\u001b[0;34m.\u001b[0m\u001b[0masync_wait\u001b[0m\u001b[0;34m(\u001b[0m\u001b[0;34m)\u001b[0m\u001b[0;34m\u001b[0m\u001b[0;34m\u001b[0m\u001b[0m\n",
      "\u001b[0;32m/usr/local/lib/python3.8/site-packages/tensorflow/python/eager/def_function.py\u001b[0m in \u001b[0;36m__call__\u001b[0;34m(self, *args, **kwds)\u001b[0m\n\u001b[1;32m    860\u001b[0m     \u001b[0;32mif\u001b[0m \u001b[0mself\u001b[0m\u001b[0;34m.\u001b[0m\u001b[0m_run_functions_eagerly\u001b[0m\u001b[0;34m:\u001b[0m\u001b[0;34m\u001b[0m\u001b[0;34m\u001b[0m\u001b[0m\n\u001b[1;32m    861\u001b[0m       \u001b[0;32mwith\u001b[0m \u001b[0mtrace\u001b[0m\u001b[0;34m.\u001b[0m\u001b[0mTrace\u001b[0m\u001b[0;34m(\u001b[0m\u001b[0mself\u001b[0m\u001b[0;34m.\u001b[0m\u001b[0m_name\u001b[0m\u001b[0;34m,\u001b[0m \u001b[0mtf_function_call\u001b[0m\u001b[0;34m=\u001b[0m\u001b[0;34m\"eager\"\u001b[0m\u001b[0;34m)\u001b[0m\u001b[0;34m:\u001b[0m\u001b[0;34m\u001b[0m\u001b[0;34m\u001b[0m\u001b[0m\n\u001b[0;32m--> 862\u001b[0;31m         \u001b[0;32mreturn\u001b[0m \u001b[0mself\u001b[0m\u001b[0;34m.\u001b[0m\u001b[0m_python_function\u001b[0m\u001b[0;34m(\u001b[0m\u001b[0;34m*\u001b[0m\u001b[0margs\u001b[0m\u001b[0;34m,\u001b[0m \u001b[0;34m**\u001b[0m\u001b[0mkwds\u001b[0m\u001b[0;34m)\u001b[0m\u001b[0;34m\u001b[0m\u001b[0;34m\u001b[0m\u001b[0m\n\u001b[0m\u001b[1;32m    863\u001b[0m \u001b[0;34m\u001b[0m\u001b[0m\n\u001b[1;32m    864\u001b[0m     \u001b[0;31m# Only count the statistics the fitst time, before initialization took\u001b[0m\u001b[0;34m\u001b[0m\u001b[0;34m\u001b[0m\u001b[0;34m\u001b[0m\u001b[0m\n",
      "\u001b[0;32m/usr/local/lib/python3.8/site-packages/keras/engine/training.py\u001b[0m in \u001b[0;36mtrain_function\u001b[0;34m(iterator)\u001b[0m\n\u001b[1;32m    851\u001b[0m       \u001b[0;32mdef\u001b[0m \u001b[0mtrain_function\u001b[0m\u001b[0;34m(\u001b[0m\u001b[0miterator\u001b[0m\u001b[0;34m)\u001b[0m\u001b[0;34m:\u001b[0m\u001b[0;34m\u001b[0m\u001b[0;34m\u001b[0m\u001b[0m\n\u001b[1;32m    852\u001b[0m         \u001b[0;34m\"\"\"Runs a training execution with one step.\"\"\"\u001b[0m\u001b[0;34m\u001b[0m\u001b[0;34m\u001b[0m\u001b[0m\n\u001b[0;32m--> 853\u001b[0;31m         \u001b[0;32mreturn\u001b[0m \u001b[0mstep_function\u001b[0m\u001b[0;34m(\u001b[0m\u001b[0mself\u001b[0m\u001b[0;34m,\u001b[0m \u001b[0miterator\u001b[0m\u001b[0;34m)\u001b[0m\u001b[0;34m\u001b[0m\u001b[0;34m\u001b[0m\u001b[0m\n\u001b[0m\u001b[1;32m    854\u001b[0m \u001b[0;34m\u001b[0m\u001b[0m\n\u001b[1;32m    855\u001b[0m     \u001b[0;32melse\u001b[0m\u001b[0;34m:\u001b[0m\u001b[0;34m\u001b[0m\u001b[0;34m\u001b[0m\u001b[0m\n",
      "\u001b[0;32m/usr/local/lib/python3.8/site-packages/keras/engine/training.py\u001b[0m in \u001b[0;36mstep_function\u001b[0;34m(model, iterator)\u001b[0m\n\u001b[1;32m    840\u001b[0m \u001b[0;34m\u001b[0m\u001b[0m\n\u001b[1;32m    841\u001b[0m       \u001b[0mdata\u001b[0m \u001b[0;34m=\u001b[0m \u001b[0mnext\u001b[0m\u001b[0;34m(\u001b[0m\u001b[0miterator\u001b[0m\u001b[0;34m)\u001b[0m\u001b[0;34m\u001b[0m\u001b[0;34m\u001b[0m\u001b[0m\n\u001b[0;32m--> 842\u001b[0;31m       \u001b[0moutputs\u001b[0m \u001b[0;34m=\u001b[0m \u001b[0mmodel\u001b[0m\u001b[0;34m.\u001b[0m\u001b[0mdistribute_strategy\u001b[0m\u001b[0;34m.\u001b[0m\u001b[0mrun\u001b[0m\u001b[0;34m(\u001b[0m\u001b[0mrun_step\u001b[0m\u001b[0;34m,\u001b[0m \u001b[0margs\u001b[0m\u001b[0;34m=\u001b[0m\u001b[0;34m(\u001b[0m\u001b[0mdata\u001b[0m\u001b[0;34m,\u001b[0m\u001b[0;34m)\u001b[0m\u001b[0;34m)\u001b[0m\u001b[0;34m\u001b[0m\u001b[0;34m\u001b[0m\u001b[0m\n\u001b[0m\u001b[1;32m    843\u001b[0m       outputs = reduce_per_replica(\n\u001b[1;32m    844\u001b[0m           outputs, self.distribute_strategy, reduction='first')\n",
      "\u001b[0;32m/usr/local/lib/python3.8/site-packages/tensorflow/python/distribute/distribute_lib.py\u001b[0m in \u001b[0;36mrun\u001b[0;34m(***failed resolving arguments***)\u001b[0m\n\u001b[1;32m   1284\u001b[0m       fn = autograph.tf_convert(\n\u001b[1;32m   1285\u001b[0m           fn, autograph_ctx.control_status_ctx(), convert_by_default=False)\n\u001b[0;32m-> 1286\u001b[0;31m       \u001b[0;32mreturn\u001b[0m \u001b[0mself\u001b[0m\u001b[0;34m.\u001b[0m\u001b[0m_extended\u001b[0m\u001b[0;34m.\u001b[0m\u001b[0mcall_for_each_replica\u001b[0m\u001b[0;34m(\u001b[0m\u001b[0mfn\u001b[0m\u001b[0;34m,\u001b[0m \u001b[0margs\u001b[0m\u001b[0;34m=\u001b[0m\u001b[0margs\u001b[0m\u001b[0;34m,\u001b[0m \u001b[0mkwargs\u001b[0m\u001b[0;34m=\u001b[0m\u001b[0mkwargs\u001b[0m\u001b[0;34m)\u001b[0m\u001b[0;34m\u001b[0m\u001b[0;34m\u001b[0m\u001b[0m\n\u001b[0m\u001b[1;32m   1287\u001b[0m \u001b[0;34m\u001b[0m\u001b[0m\n\u001b[1;32m   1288\u001b[0m   \u001b[0;32mdef\u001b[0m \u001b[0mreduce\u001b[0m\u001b[0;34m(\u001b[0m\u001b[0mself\u001b[0m\u001b[0;34m,\u001b[0m \u001b[0mreduce_op\u001b[0m\u001b[0;34m,\u001b[0m \u001b[0mvalue\u001b[0m\u001b[0;34m,\u001b[0m \u001b[0maxis\u001b[0m\u001b[0;34m)\u001b[0m\u001b[0;34m:\u001b[0m\u001b[0;34m\u001b[0m\u001b[0;34m\u001b[0m\u001b[0m\n",
      "\u001b[0;32m/usr/local/lib/python3.8/site-packages/tensorflow/python/distribute/distribute_lib.py\u001b[0m in \u001b[0;36mcall_for_each_replica\u001b[0;34m(self, fn, args, kwargs)\u001b[0m\n\u001b[1;32m   2847\u001b[0m       \u001b[0mkwargs\u001b[0m \u001b[0;34m=\u001b[0m \u001b[0;34m{\u001b[0m\u001b[0;34m}\u001b[0m\u001b[0;34m\u001b[0m\u001b[0;34m\u001b[0m\u001b[0m\n\u001b[1;32m   2848\u001b[0m     \u001b[0;32mwith\u001b[0m \u001b[0mself\u001b[0m\u001b[0;34m.\u001b[0m\u001b[0m_container_strategy\u001b[0m\u001b[0;34m(\u001b[0m\u001b[0;34m)\u001b[0m\u001b[0;34m.\u001b[0m\u001b[0mscope\u001b[0m\u001b[0;34m(\u001b[0m\u001b[0;34m)\u001b[0m\u001b[0;34m:\u001b[0m\u001b[0;34m\u001b[0m\u001b[0;34m\u001b[0m\u001b[0m\n\u001b[0;32m-> 2849\u001b[0;31m       \u001b[0;32mreturn\u001b[0m \u001b[0mself\u001b[0m\u001b[0;34m.\u001b[0m\u001b[0m_call_for_each_replica\u001b[0m\u001b[0;34m(\u001b[0m\u001b[0mfn\u001b[0m\u001b[0;34m,\u001b[0m \u001b[0margs\u001b[0m\u001b[0;34m,\u001b[0m \u001b[0mkwargs\u001b[0m\u001b[0;34m)\u001b[0m\u001b[0;34m\u001b[0m\u001b[0;34m\u001b[0m\u001b[0m\n\u001b[0m\u001b[1;32m   2850\u001b[0m \u001b[0;34m\u001b[0m\u001b[0m\n\u001b[1;32m   2851\u001b[0m   \u001b[0;32mdef\u001b[0m \u001b[0m_call_for_each_replica\u001b[0m\u001b[0;34m(\u001b[0m\u001b[0mself\u001b[0m\u001b[0;34m,\u001b[0m \u001b[0mfn\u001b[0m\u001b[0;34m,\u001b[0m \u001b[0margs\u001b[0m\u001b[0;34m,\u001b[0m \u001b[0mkwargs\u001b[0m\u001b[0;34m)\u001b[0m\u001b[0;34m:\u001b[0m\u001b[0;34m\u001b[0m\u001b[0;34m\u001b[0m\u001b[0m\n",
      "\u001b[0;32m/usr/local/lib/python3.8/site-packages/tensorflow/python/distribute/distribute_lib.py\u001b[0m in \u001b[0;36m_call_for_each_replica\u001b[0;34m(self, fn, args, kwargs)\u001b[0m\n\u001b[1;32m   3630\u001b[0m   \u001b[0;32mdef\u001b[0m \u001b[0m_call_for_each_replica\u001b[0m\u001b[0;34m(\u001b[0m\u001b[0mself\u001b[0m\u001b[0;34m,\u001b[0m \u001b[0mfn\u001b[0m\u001b[0;34m,\u001b[0m \u001b[0margs\u001b[0m\u001b[0;34m,\u001b[0m \u001b[0mkwargs\u001b[0m\u001b[0;34m)\u001b[0m\u001b[0;34m:\u001b[0m\u001b[0;34m\u001b[0m\u001b[0;34m\u001b[0m\u001b[0m\n\u001b[1;32m   3631\u001b[0m     \u001b[0;32mwith\u001b[0m \u001b[0mReplicaContext\u001b[0m\u001b[0;34m(\u001b[0m\u001b[0mself\u001b[0m\u001b[0;34m.\u001b[0m\u001b[0m_container_strategy\u001b[0m\u001b[0;34m(\u001b[0m\u001b[0;34m)\u001b[0m\u001b[0;34m,\u001b[0m \u001b[0mreplica_id_in_sync_group\u001b[0m\u001b[0;34m=\u001b[0m\u001b[0;36m0\u001b[0m\u001b[0;34m)\u001b[0m\u001b[0;34m:\u001b[0m\u001b[0;34m\u001b[0m\u001b[0;34m\u001b[0m\u001b[0m\n\u001b[0;32m-> 3632\u001b[0;31m       \u001b[0;32mreturn\u001b[0m \u001b[0mfn\u001b[0m\u001b[0;34m(\u001b[0m\u001b[0;34m*\u001b[0m\u001b[0margs\u001b[0m\u001b[0;34m,\u001b[0m \u001b[0;34m**\u001b[0m\u001b[0mkwargs\u001b[0m\u001b[0;34m)\u001b[0m\u001b[0;34m\u001b[0m\u001b[0;34m\u001b[0m\u001b[0m\n\u001b[0m\u001b[1;32m   3633\u001b[0m \u001b[0;34m\u001b[0m\u001b[0m\n\u001b[1;32m   3634\u001b[0m   \u001b[0;32mdef\u001b[0m \u001b[0m_reduce_to\u001b[0m\u001b[0;34m(\u001b[0m\u001b[0mself\u001b[0m\u001b[0;34m,\u001b[0m \u001b[0mreduce_op\u001b[0m\u001b[0;34m,\u001b[0m \u001b[0mvalue\u001b[0m\u001b[0;34m,\u001b[0m \u001b[0mdestinations\u001b[0m\u001b[0;34m,\u001b[0m \u001b[0moptions\u001b[0m\u001b[0;34m)\u001b[0m\u001b[0;34m:\u001b[0m\u001b[0;34m\u001b[0m\u001b[0;34m\u001b[0m\u001b[0m\n",
      "\u001b[0;32m/usr/local/lib/python3.8/site-packages/tensorflow/python/autograph/impl/api.py\u001b[0m in \u001b[0;36mwrapper\u001b[0;34m(*args, **kwargs)\u001b[0m\n\u001b[1;32m    595\u001b[0m   \u001b[0;32mdef\u001b[0m \u001b[0mwrapper\u001b[0m\u001b[0;34m(\u001b[0m\u001b[0;34m*\u001b[0m\u001b[0margs\u001b[0m\u001b[0;34m,\u001b[0m \u001b[0;34m**\u001b[0m\u001b[0mkwargs\u001b[0m\u001b[0;34m)\u001b[0m\u001b[0;34m:\u001b[0m\u001b[0;34m\u001b[0m\u001b[0;34m\u001b[0m\u001b[0m\n\u001b[1;32m    596\u001b[0m     \u001b[0;32mwith\u001b[0m \u001b[0mag_ctx\u001b[0m\u001b[0;34m.\u001b[0m\u001b[0mControlStatusCtx\u001b[0m\u001b[0;34m(\u001b[0m\u001b[0mstatus\u001b[0m\u001b[0;34m=\u001b[0m\u001b[0mag_ctx\u001b[0m\u001b[0;34m.\u001b[0m\u001b[0mStatus\u001b[0m\u001b[0;34m.\u001b[0m\u001b[0mUNSPECIFIED\u001b[0m\u001b[0;34m)\u001b[0m\u001b[0;34m:\u001b[0m\u001b[0;34m\u001b[0m\u001b[0;34m\u001b[0m\u001b[0m\n\u001b[0;32m--> 597\u001b[0;31m       \u001b[0;32mreturn\u001b[0m \u001b[0mfunc\u001b[0m\u001b[0;34m(\u001b[0m\u001b[0;34m*\u001b[0m\u001b[0margs\u001b[0m\u001b[0;34m,\u001b[0m \u001b[0;34m**\u001b[0m\u001b[0mkwargs\u001b[0m\u001b[0;34m)\u001b[0m\u001b[0;34m\u001b[0m\u001b[0;34m\u001b[0m\u001b[0m\n\u001b[0m\u001b[1;32m    598\u001b[0m \u001b[0;34m\u001b[0m\u001b[0m\n\u001b[1;32m    599\u001b[0m   \u001b[0;32mif\u001b[0m \u001b[0minspect\u001b[0m\u001b[0;34m.\u001b[0m\u001b[0misfunction\u001b[0m\u001b[0;34m(\u001b[0m\u001b[0mfunc\u001b[0m\u001b[0;34m)\u001b[0m \u001b[0;32mor\u001b[0m \u001b[0minspect\u001b[0m\u001b[0;34m.\u001b[0m\u001b[0mismethod\u001b[0m\u001b[0;34m(\u001b[0m\u001b[0mfunc\u001b[0m\u001b[0;34m)\u001b[0m\u001b[0;34m:\u001b[0m\u001b[0;34m\u001b[0m\u001b[0;34m\u001b[0m\u001b[0m\n",
      "\u001b[0;32m/usr/local/lib/python3.8/site-packages/keras/engine/training.py\u001b[0m in \u001b[0;36mrun_step\u001b[0;34m(data)\u001b[0m\n\u001b[1;32m    833\u001b[0m \u001b[0;34m\u001b[0m\u001b[0m\n\u001b[1;32m    834\u001b[0m       \u001b[0;32mdef\u001b[0m \u001b[0mrun_step\u001b[0m\u001b[0;34m(\u001b[0m\u001b[0mdata\u001b[0m\u001b[0;34m)\u001b[0m\u001b[0;34m:\u001b[0m\u001b[0;34m\u001b[0m\u001b[0;34m\u001b[0m\u001b[0m\n\u001b[0;32m--> 835\u001b[0;31m         \u001b[0moutputs\u001b[0m \u001b[0;34m=\u001b[0m \u001b[0mmodel\u001b[0m\u001b[0;34m.\u001b[0m\u001b[0mtrain_step\u001b[0m\u001b[0;34m(\u001b[0m\u001b[0mdata\u001b[0m\u001b[0;34m)\u001b[0m\u001b[0;34m\u001b[0m\u001b[0;34m\u001b[0m\u001b[0m\n\u001b[0m\u001b[1;32m    836\u001b[0m         \u001b[0;31m# Ensure counter is updated only if `train_step` succeeds.\u001b[0m\u001b[0;34m\u001b[0m\u001b[0;34m\u001b[0m\u001b[0;34m\u001b[0m\u001b[0m\n\u001b[1;32m    837\u001b[0m         \u001b[0;32mwith\u001b[0m \u001b[0mtf\u001b[0m\u001b[0;34m.\u001b[0m\u001b[0mcontrol_dependencies\u001b[0m\u001b[0;34m(\u001b[0m\u001b[0m_minimum_control_deps\u001b[0m\u001b[0;34m(\u001b[0m\u001b[0moutputs\u001b[0m\u001b[0;34m)\u001b[0m\u001b[0;34m)\u001b[0m\u001b[0;34m:\u001b[0m\u001b[0;34m\u001b[0m\u001b[0;34m\u001b[0m\u001b[0m\n",
      "\u001b[0;32m/usr/local/lib/python3.8/site-packages/keras/engine/training.py\u001b[0m in \u001b[0;36mtrain_step\u001b[0;34m(self, data)\u001b[0m\n\u001b[1;32m    794\u001b[0m     \u001b[0mreturn_metrics\u001b[0m \u001b[0;34m=\u001b[0m \u001b[0;34m{\u001b[0m\u001b[0;34m}\u001b[0m\u001b[0;34m\u001b[0m\u001b[0;34m\u001b[0m\u001b[0m\n\u001b[1;32m    795\u001b[0m     \u001b[0;32mfor\u001b[0m \u001b[0mmetric\u001b[0m \u001b[0;32min\u001b[0m \u001b[0mself\u001b[0m\u001b[0;34m.\u001b[0m\u001b[0mmetrics\u001b[0m\u001b[0;34m:\u001b[0m\u001b[0;34m\u001b[0m\u001b[0;34m\u001b[0m\u001b[0m\n\u001b[0;32m--> 796\u001b[0;31m       \u001b[0mresult\u001b[0m \u001b[0;34m=\u001b[0m \u001b[0mmetric\u001b[0m\u001b[0;34m.\u001b[0m\u001b[0mresult\u001b[0m\u001b[0;34m(\u001b[0m\u001b[0;34m)\u001b[0m\u001b[0;34m\u001b[0m\u001b[0;34m\u001b[0m\u001b[0m\n\u001b[0m\u001b[1;32m    797\u001b[0m       \u001b[0;32mif\u001b[0m \u001b[0misinstance\u001b[0m\u001b[0;34m(\u001b[0m\u001b[0mresult\u001b[0m\u001b[0;34m,\u001b[0m \u001b[0mdict\u001b[0m\u001b[0;34m)\u001b[0m\u001b[0;34m:\u001b[0m\u001b[0;34m\u001b[0m\u001b[0;34m\u001b[0m\u001b[0m\n\u001b[1;32m    798\u001b[0m         \u001b[0mreturn_metrics\u001b[0m\u001b[0;34m.\u001b[0m\u001b[0mupdate\u001b[0m\u001b[0;34m(\u001b[0m\u001b[0mresult\u001b[0m\u001b[0;34m)\u001b[0m\u001b[0;34m\u001b[0m\u001b[0;34m\u001b[0m\u001b[0m\n",
      "\u001b[0;32m/usr/local/lib/python3.8/site-packages/keras/utils/metrics_utils.py\u001b[0m in \u001b[0;36mdecorated\u001b[0;34m(metric_obj, *args)\u001b[0m\n\u001b[1;32m    135\u001b[0m         if isinstance(raw_result,\n\u001b[1;32m    136\u001b[0m                       (tf.Tensor, tf.Variable, float, int)):\n\u001b[0;32m--> 137\u001b[0;31m           \u001b[0mresult_t\u001b[0m \u001b[0;34m=\u001b[0m \u001b[0mtf\u001b[0m\u001b[0;34m.\u001b[0m\u001b[0midentity\u001b[0m\u001b[0;34m(\u001b[0m\u001b[0mraw_result\u001b[0m\u001b[0;34m)\u001b[0m\u001b[0;34m\u001b[0m\u001b[0;34m\u001b[0m\u001b[0m\n\u001b[0m\u001b[1;32m    138\u001b[0m         \u001b[0;32melif\u001b[0m \u001b[0misinstance\u001b[0m\u001b[0;34m(\u001b[0m\u001b[0mraw_result\u001b[0m\u001b[0;34m,\u001b[0m \u001b[0mdict\u001b[0m\u001b[0;34m)\u001b[0m\u001b[0;34m:\u001b[0m\u001b[0;34m\u001b[0m\u001b[0;34m\u001b[0m\u001b[0m\n\u001b[1;32m    139\u001b[0m           result_t = {\n",
      "\u001b[0;32m/usr/local/lib/python3.8/site-packages/tensorflow/python/util/dispatch.py\u001b[0m in \u001b[0;36mwrapper\u001b[0;34m(*args, **kwargs)\u001b[0m\n\u001b[1;32m    204\u001b[0m     \u001b[0;34m\"\"\"Call target, and fall back on dispatchers if there is a TypeError.\"\"\"\u001b[0m\u001b[0;34m\u001b[0m\u001b[0;34m\u001b[0m\u001b[0m\n\u001b[1;32m    205\u001b[0m     \u001b[0;32mtry\u001b[0m\u001b[0;34m:\u001b[0m\u001b[0;34m\u001b[0m\u001b[0;34m\u001b[0m\u001b[0m\n\u001b[0;32m--> 206\u001b[0;31m       \u001b[0;32mreturn\u001b[0m \u001b[0mtarget\u001b[0m\u001b[0;34m(\u001b[0m\u001b[0;34m*\u001b[0m\u001b[0margs\u001b[0m\u001b[0;34m,\u001b[0m \u001b[0;34m**\u001b[0m\u001b[0mkwargs\u001b[0m\u001b[0;34m)\u001b[0m\u001b[0;34m\u001b[0m\u001b[0;34m\u001b[0m\u001b[0m\n\u001b[0m\u001b[1;32m    207\u001b[0m     \u001b[0;32mexcept\u001b[0m \u001b[0;34m(\u001b[0m\u001b[0mTypeError\u001b[0m\u001b[0;34m,\u001b[0m \u001b[0mValueError\u001b[0m\u001b[0;34m)\u001b[0m\u001b[0;34m:\u001b[0m\u001b[0;34m\u001b[0m\u001b[0;34m\u001b[0m\u001b[0m\n\u001b[1;32m    208\u001b[0m       \u001b[0;31m# Note: convert_to_eager_tensor currently raises a ValueError, not a\u001b[0m\u001b[0;34m\u001b[0m\u001b[0;34m\u001b[0m\u001b[0;34m\u001b[0m\u001b[0m\n",
      "\u001b[0;32m/usr/local/lib/python3.8/site-packages/tensorflow/python/ops/array_ops.py\u001b[0m in \u001b[0;36midentity\u001b[0;34m(input, name)\u001b[0m\n\u001b[1;32m    287\u001b[0m     \u001b[0;31m# variables. Variables have correct handle data when graph building.\u001b[0m\u001b[0;34m\u001b[0m\u001b[0;34m\u001b[0m\u001b[0;34m\u001b[0m\u001b[0m\n\u001b[1;32m    288\u001b[0m     \u001b[0minput\u001b[0m \u001b[0;34m=\u001b[0m \u001b[0mops\u001b[0m\u001b[0;34m.\u001b[0m\u001b[0mconvert_to_tensor\u001b[0m\u001b[0;34m(\u001b[0m\u001b[0minput\u001b[0m\u001b[0;34m)\u001b[0m\u001b[0;34m\u001b[0m\u001b[0;34m\u001b[0m\u001b[0m\n\u001b[0;32m--> 289\u001b[0;31m   \u001b[0mret\u001b[0m \u001b[0;34m=\u001b[0m \u001b[0mgen_array_ops\u001b[0m\u001b[0;34m.\u001b[0m\u001b[0midentity\u001b[0m\u001b[0;34m(\u001b[0m\u001b[0minput\u001b[0m\u001b[0;34m,\u001b[0m \u001b[0mname\u001b[0m\u001b[0;34m=\u001b[0m\u001b[0mname\u001b[0m\u001b[0;34m)\u001b[0m\u001b[0;34m\u001b[0m\u001b[0;34m\u001b[0m\u001b[0m\n\u001b[0m\u001b[1;32m    290\u001b[0m   \u001b[0;31m# Propagate handle data for happier shape inference for resource variables.\u001b[0m\u001b[0;34m\u001b[0m\u001b[0;34m\u001b[0m\u001b[0;34m\u001b[0m\u001b[0m\n\u001b[1;32m    291\u001b[0m   \u001b[0;32mif\u001b[0m \u001b[0mhasattr\u001b[0m\u001b[0;34m(\u001b[0m\u001b[0minput\u001b[0m\u001b[0;34m,\u001b[0m \u001b[0;34m\"_handle_data\"\u001b[0m\u001b[0;34m)\u001b[0m\u001b[0;34m:\u001b[0m\u001b[0;34m\u001b[0m\u001b[0;34m\u001b[0m\u001b[0m\n",
      "\u001b[0;32m/usr/local/lib/python3.8/site-packages/tensorflow/python/ops/gen_array_ops.py\u001b[0m in \u001b[0;36midentity\u001b[0;34m(input, name)\u001b[0m\n\u001b[1;32m   3930\u001b[0m   \u001b[0;32mif\u001b[0m \u001b[0mtld\u001b[0m\u001b[0;34m.\u001b[0m\u001b[0mis_eager\u001b[0m\u001b[0;34m:\u001b[0m\u001b[0;34m\u001b[0m\u001b[0;34m\u001b[0m\u001b[0m\n\u001b[1;32m   3931\u001b[0m     \u001b[0;32mtry\u001b[0m\u001b[0;34m:\u001b[0m\u001b[0;34m\u001b[0m\u001b[0;34m\u001b[0m\u001b[0m\n\u001b[0;32m-> 3932\u001b[0;31m       _result = pywrap_tfe.TFE_Py_FastPathExecute(\n\u001b[0m\u001b[1;32m   3933\u001b[0m         _ctx, \"Identity\", name, input)\n\u001b[1;32m   3934\u001b[0m       \u001b[0;32mreturn\u001b[0m \u001b[0m_result\u001b[0m\u001b[0;34m\u001b[0m\u001b[0;34m\u001b[0m\u001b[0m\n",
      "\u001b[0;31mKeyboardInterrupt\u001b[0m: "
     ]
    }
   ],
   "source": [
    "model.fit(x_train, y_tr, epochs = 10, callbacks = [cb], validation_data = (x_cv, y_val))"
   ]
  },
  {
   "cell_type": "code",
   "execution_count": 53,
   "id": "47681964-885c-4099-a1c7-de8a57490279",
   "metadata": {
    "tags": []
   },
   "outputs": [],
   "source": [
    "model.save('model.h5')"
   ]
  },
  {
   "cell_type": "code",
   "execution_count": 23,
   "id": "2fc4395d-14cd-46e4-9d75-908101bf7590",
   "metadata": {
    "tags": []
   },
   "outputs": [
    {
     "name": "stderr",
     "output_type": "stream",
     "text": [
      "/usr/local/lib/python3.8/site-packages/tensorflow/python/data/ops/dataset_ops.py:4211: UserWarning: Even though the `tf.config.experimental_run_functions_eagerly` option is set, this option does not apply to tf.data functions. To force eager execution of tf.data functions, please use `tf.data.experimental.enable_debug_mode()`.\n",
      "  warnings.warn(\n"
     ]
    }
   ],
   "source": [
    "pred = model.predict(x_cv)"
   ]
  },
  {
   "cell_type": "code",
   "execution_count": 26,
   "id": "7b41ac9d-2813-4202-83f6-dde20a9c079d",
   "metadata": {
    "tags": []
   },
   "outputs": [
    {
     "data": {
      "text/plain": [
       "array([[9.9846020e-26, 2.2999086e-20, 8.0772267e-10, ..., 4.2279843e-13,\n",
       "        1.8443138e-16, 8.1974962e-17],\n",
       "       [8.3276256e-16, 3.2234144e-13, 4.7761222e-07, ..., 6.6376190e-22,\n",
       "        1.5133905e-14, 3.1135753e-16],\n",
       "       [9.7947242e-23, 4.7089909e-19, 6.8325837e-29, ..., 1.6176989e-17,\n",
       "        2.3950712e-21, 1.8188702e-31],\n",
       "       ...,\n",
       "       [6.8885114e-23, 2.6773717e-17, 1.4219898e-25, ..., 3.5301868e-26,\n",
       "        1.6909245e-24, 1.2188349e-22],\n",
       "       [1.6335191e-16, 2.7598330e-15, 5.0470773e-12, ..., 4.1052243e-24,\n",
       "        2.8749449e-22, 2.9548312e-23],\n",
       "       [1.5546499e-29, 5.1150383e-19, 4.7002363e-27, ..., 3.0785730e-22,\n",
       "        7.5164074e-18, 2.4061621e-22]], dtype=float32)"
      ]
     },
     "execution_count": 26,
     "metadata": {},
     "output_type": "execute_result"
    }
   ],
   "source": [
    "pred"
   ]
  },
  {
   "cell_type": "code",
   "execution_count": 28,
   "id": "8541ffa5-fff9-42ef-84ae-6811f77db2d1",
   "metadata": {
    "tags": []
   },
   "outputs": [
    {
     "data": {
      "text/plain": [
       "array([[0., 0., 0., ..., 0., 0., 0.],\n",
       "       [0., 0., 0., ..., 0., 0., 0.],\n",
       "       [0., 0., 0., ..., 0., 0., 0.],\n",
       "       ...,\n",
       "       [0., 0., 0., ..., 0., 0., 0.],\n",
       "       [0., 0., 0., ..., 0., 0., 0.],\n",
       "       [0., 0., 0., ..., 0., 0., 0.]])"
      ]
     },
     "execution_count": 28,
     "metadata": {},
     "output_type": "execute_result"
    }
   ],
   "source": [
    "y_val"
   ]
  },
  {
   "cell_type": "code",
   "execution_count": 21,
   "id": "90116b7f-5c7d-4a82-b901-4e83fc4a9689",
   "metadata": {
    "tags": []
   },
   "outputs": [],
   "source": [
    "from sklearn.metrics import confusion_matrix, ConfusionMatrixDisplay"
   ]
  },
  {
   "cell_type": "code",
   "execution_count": 29,
   "id": "66a5e268-7701-4b3e-a408-1bae01e851dd",
   "metadata": {
    "tags": []
   },
   "outputs": [],
   "source": [
    "cm = confusion_matrix(np.argmax(y_val, axis = -1), np.argmax(pred, axis = -1))"
   ]
  },
  {
   "cell_type": "code",
   "execution_count": 31,
   "id": "1f8a6654-405e-4af5-8425-6986c4bd9839",
   "metadata": {
    "tags": []
   },
   "outputs": [],
   "source": [
    "cm_dis = ConfusionMatrixDisplay(cm)"
   ]
  },
  {
   "cell_type": "code",
   "execution_count": 34,
   "id": "d8294375-0c15-4abd-a5a5-f4042056fae2",
   "metadata": {
    "tags": []
   },
   "outputs": [
    {
     "data": {
      "image/png": "[encoded data removed]",
      "text/plain": [
       "<Figure size 432x288 with 2 Axes>"
      ]
     },
     "metadata": {
      "needs_background": "light"
     },
     "output_type": "display_data"
    }
   ],
   "source": [
    "cm_dis.plot(include_values = False)\n",
    "plt.show()"
   ]
  },
  {
   "cell_type": "code",
   "execution_count": 35,
   "id": "dd47b4c4-80ec-46b9-bc99-c6e65abb8056",
   "metadata": {
    "tags": []
   },
   "outputs": [],
   "source": [
    "x_test = np.load('x_test.npy')\n",
    "y_test = np.load('y_test.npy')"
   ]
  },
  {
   "cell_type": "code",
   "execution_count": 37,
   "id": "631e25f4-37c8-4315-8806-e29deda568b4",
   "metadata": {
    "tags": []
   },
   "outputs": [
    {
     "data": {
      "text/plain": [
       "(37245,)"
      ]
     },
     "execution_count": 37,
     "metadata": {},
     "output_type": "execute_result"
    }
   ],
   "source": [
    "y_test.shape"
   ]
  },
  {
   "cell_type": "code",
   "execution_count": 38,
   "id": "c4817a97-61a8-4a39-be47-9915869e0e77",
   "metadata": {
    "scrolled": true,
    "tags": []
   },
   "outputs": [
    {
     "name": "stdout",
     "output_type": "stream",
     "text": [
      "Rows added = 0\n",
      "Rows added = 1000\n",
      "Rows added = 2000\n",
      "Rows added = 3000\n",
      "Rows added = 4000\n",
      "Rows added = 5000\n",
      "Rows added = 6000\n",
      "Rows added = 7000\n",
      "Rows added = 8000\n",
      "Rows added = 9000\n",
      "Rows added = 10000\n",
      "Rows added = 11000\n",
      "Rows added = 12000\n",
      "Rows added = 13000\n",
      "Rows added = 14000\n",
      "Rows added = 15000\n",
      "Rows added = 16000\n",
      "Rows added = 17000\n",
      "Rows added = 18000\n",
      "Rows added = 19000\n",
      "Rows added = 20000\n",
      "Rows added = 21000\n",
      "Rows added = 22000\n",
      "Rows added = 23000\n",
      "Rows added = 24000\n",
      "Rows added = 25000\n",
      "Rows added = 26000\n",
      "Rows added = 27000\n",
      "Rows added = 28000\n",
      "Rows added = 29000\n",
      "Rows added = 30000\n",
      "Rows added = 31000\n",
      "Rows added = 32000\n",
      "Rows added = 33000\n",
      "Rows added = 34000\n",
      "Rows added = 35000\n",
      "Rows added = 36000\n",
      "Rows added = 37000\n"
     ]
    }
   ],
   "source": [
    "y_test1 = np.zeros((37245, 26))\n",
    "for i in range(37245):\n",
    "    o = y_test[i]\n",
    "    y_test1[i][o] = 1\n",
    "    if i%1000 == 0:\n",
    "        print(\"Rows added =\", i)"
   ]
  },
  {
   "cell_type": "code",
   "execution_count": 43,
   "id": "7861f907-ba9e-451e-bdd6-964c1138c6d2",
   "metadata": {
    "tags": []
   },
   "outputs": [],
   "source": [
    "y_test = np.load('y_test.npy')"
   ]
  },
  {
   "cell_type": "code",
   "execution_count": 45,
   "id": "d773426d-de8a-4cc1-a714-7a34f299702b",
   "metadata": {
    "tags": []
   },
   "outputs": [
    {
     "name": "stderr",
     "output_type": "stream",
     "text": [
      "/usr/local/lib/python3.8/site-packages/tensorflow/python/data/ops/dataset_ops.py:4211: UserWarning: Even though the `tf.config.experimental_run_functions_eagerly` option is set, this option does not apply to tf.data functions. To force eager execution of tf.data functions, please use `tf.data.experimental.enable_debug_mode()`.\n",
      "  warnings.warn(\n"
     ]
    }
   ],
   "source": [
    "test_pred = model.predict(x_test)"
   ]
  },
  {
   "cell_type": "code",
   "execution_count": 46,
   "id": "25c993ac-0fd6-436f-a4fd-165b9a700365",
   "metadata": {
    "tags": []
   },
   "outputs": [
    {
     "data": {
      "text/plain": [
       "array([18, 13,  6, ..., 15, 24,  2])"
      ]
     },
     "execution_count": 46,
     "metadata": {},
     "output_type": "execute_result"
    }
   ],
   "source": [
    "np.argmax(test_pred, axis = -1)"
   ]
  },
  {
   "cell_type": "code",
   "execution_count": 47,
   "id": "8189a3f6-7b3b-488e-8c11-0e78e36b0d51",
   "metadata": {
    "tags": []
   },
   "outputs": [],
   "source": [
    "cm_test = confusion_matrix(np.argmax(y_test, axis = -1), np.argmax(test_pred, axis = -1))"
   ]
  },
  {
   "cell_type": "code",
   "execution_count": 49,
   "id": "c99df203-bf3a-4d2c-9fdf-11d7807060b9",
   "metadata": {
    "tags": []
   },
   "outputs": [],
   "source": [
    "cm_test_dis = ConfusionMatrixDisplay(cm_test)"
   ]
  },
  {
   "cell_type": "code",
   "execution_count": 50,
   "id": "4ccca746-e66d-45f8-8ad3-05c760980ed2",
   "metadata": {
    "tags": []
   },
   "outputs": [
    {
     "data": {
      "text/plain": [
       "<sklearn.metrics._plot.confusion_matrix.ConfusionMatrixDisplay at 0x7f1d88dc63a0>"
      ]
     },
     "execution_count": 50,
     "metadata": {},
     "output_type": "execute_result"
    },
    {
     "data": {
      "image/png": "[encoded data removed]",
      "text/plain": [
       "<Figure size 432x288 with 2 Axes>"
      ]
     },
     "metadata": {
      "needs_background": "light"
     },
     "output_type": "display_data"
    }
   ],
   "source": [
    "cm_test_dis.plot(include_values = False)"
   ]
  },
  {
   "cell_type": "code",
   "execution_count": 51,
   "id": "a8a4f50b-45e7-4bdb-998a-9b0c90393b62",
   "metadata": {
    "tags": []
   },
   "outputs": [
    {
     "name": "stdout",
     "output_type": "stream",
     "text": [
      "   7/1048 [..............................] - ETA: 8s - loss: 0.0025 - accuracy: 1.0000 "
     ]
    },
    {
     "name": "stderr",
     "output_type": "stream",
     "text": [
      "/usr/local/lib/python3.8/site-packages/tensorflow/python/data/ops/dataset_ops.py:4211: UserWarning: Even though the `tf.config.experimental_run_functions_eagerly` option is set, this option does not apply to tf.data functions. To force eager execution of tf.data functions, please use `tf.data.experimental.enable_debug_mode()`.\n",
      "  warnings.warn(\n"
     ]
    },
    {
     "name": "stdout",
     "output_type": "stream",
     "text": [
      "1048/1048 [==============================] - 9s 9ms/step - loss: 0.0390 - accuracy: 0.9914\n"
     ]
    },
    {
     "data": {
      "text/plain": [
       "[0.03900182992219925, 0.9914083480834961]"
      ]
     },
     "execution_count": 51,
     "metadata": {},
     "output_type": "execute_result"
    }
   ],
   "source": [
    "model.evaluate(x_cv, y_val)"
   ]
  },
  {
   "cell_type": "code",
   "execution_count": 52,
   "id": "34672ec7-4cec-414d-b156-1c9d7674037e",
   "metadata": {
    "tags": []
   },
   "outputs": [
    {
     "name": "stdout",
     "output_type": "stream",
     "text": [
      "1164/1164 [==============================] - 10s 9ms/step - loss: 0.0339 - accuracy: 0.9916\n"
     ]
    },
    {
     "data": {
      "text/plain": [
       "[0.0338703915476799, 0.991649866104126]"
      ]
     },
     "execution_count": 52,
     "metadata": {},
     "output_type": "execute_result"
    }
   ],
   "source": [
    "model.evaluate(x_test, y_test)"
   ]
  }
 ],
 "metadata": {
  "availableInstances": [
   {
    "_defaultOrder": 0,
    "_isFastLaunch": true,
    "category": "General purpose",
    "gpuNum": 0,
    "memoryGiB": 4,
    "name": "ml.t3.medium",
    "vcpuNum": 2
   },
   {
    "_defaultOrder": 1,
    "_isFastLaunch": false,
    "category": "General purpose",
    "gpuNum": 0,
    "memoryGiB": 8,
    "name": "ml.t3.large",
    "vcpuNum": 2
   },
   {
    "_defaultOrder": 2,
    "_isFastLaunch": false,
    "category": "General purpose",
    "gpuNum": 0,
    "memoryGiB": 16,
    "name": "ml.t3.xlarge",
    "vcpuNum": 4
   },
   {
    "_defaultOrder": 3,
    "_isFastLaunch": false,
    "category": "General purpose",
    "gpuNum": 0,
    "memoryGiB": 32,
    "name": "ml.t3.2xlarge",
    "vcpuNum": 8
   },
   {
    "_defaultOrder": 4,
    "_isFastLaunch": true,
    "category": "General purpose",
    "gpuNum": 0,
    "memoryGiB": 8,
    "name": "ml.m5.large",
    "vcpuNum": 2
   },
   {
    "_defaultOrder": 5,
    "_isFastLaunch": false,
    "category": "General purpose",
    "gpuNum": 0,
    "memoryGiB": 16,
    "name": "ml.m5.xlarge",
    "vcpuNum": 4
   },
   {
    "_defaultOrder": 6,
    "_isFastLaunch": false,
    "category": "General purpose",
    "gpuNum": 0,
    "memoryGiB": 32,
    "name": "ml.m5.2xlarge",
    "vcpuNum": 8
   },
   {
    "_defaultOrder": 7,
    "_isFastLaunch": false,
    "category": "General purpose",
    "gpuNum": 0,
    "memoryGiB": 64,
    "name": "ml.m5.4xlarge",
    "vcpuNum": 16
   },
   {
    "_defaultOrder": 8,
    "_isFastLaunch": false,
    "category": "General purpose",
    "gpuNum": 0,
    "memoryGiB": 128,
    "name": "ml.m5.8xlarge",
    "vcpuNum": 32
   },
   {
    "_defaultOrder": 9,
    "_isFastLaunch": false,
    "category": "General purpose",
    "gpuNum": 0,
    "memoryGiB": 192,
    "name": "ml.m5.12xlarge",
    "vcpuNum": 48
   },
   {
    "_defaultOrder": 10,
    "_isFastLaunch": false,
    "category": "General purpose",
    "gpuNum": 0,
    "memoryGiB": 256,
    "name": "ml.m5.16xlarge",
    "vcpuNum": 64
   },
   {
    "_defaultOrder": 11,
    "_isFastLaunch": false,
    "category": "General purpose",
    "gpuNum": 0,
    "memoryGiB": 384,
    "name": "ml.m5.24xlarge",
    "vcpuNum": 96
   },
   {
    "_defaultOrder": 12,
    "_isFastLaunch": false,
    "category": "General purpose",
    "gpuNum": 0,
    "memoryGiB": 8,
    "name": "ml.m5d.large",
    "vcpuNum": 2
   },
   {
    "_defaultOrder": 13,
    "_isFastLaunch": false,
    "category": "General purpose",
    "gpuNum": 0,
    "memoryGiB": 16,
    "name": "ml.m5d.xlarge",
    "vcpuNum": 4
   },
   {
    "_defaultOrder": 14,
    "_isFastLaunch": false,
    "category": "General purpose",
    "gpuNum": 0,
    "memoryGiB": 32,
    "name": "ml.m5d.2xlarge",
    "vcpuNum": 8
   },
   {
    "_defaultOrder": 15,
    "_isFastLaunch": false,
    "category": "General purpose",
    "gpuNum": 0,
    "memoryGiB": 64,
    "name": "ml.m5d.4xlarge",
    "vcpuNum": 16
   },
   {
    "_defaultOrder": 16,
    "_isFastLaunch": false,
    "category": "General purpose",
    "gpuNum": 0,
    "memoryGiB": 128,
    "name": "ml.m5d.8xlarge",
    "vcpuNum": 32
   },
   {
    "_defaultOrder": 17,
    "_isFastLaunch": false,
    "category": "General purpose",
    "gpuNum": 0,
    "memoryGiB": 192,
    "name": "ml.m5d.12xlarge",
    "vcpuNum": 48
   },
   {
    "_defaultOrder": 18,
    "_isFastLaunch": false,
    "category": "General purpose",
    "gpuNum": 0,
    "memoryGiB": 256,
    "name": "ml.m5d.16xlarge",
    "vcpuNum": 64
   },
   {
    "_defaultOrder": 19,
    "_isFastLaunch": false,
    "category": "General purpose",
    "gpuNum": 0,
    "memoryGiB": 384,
    "name": "ml.m5d.24xlarge",
    "vcpuNum": 96
   },
   {
    "_defaultOrder": 20,
    "_isFastLaunch": true,
    "category": "Compute optimized",
    "gpuNum": 0,
    "memoryGiB": 4,
    "name": "ml.c5.large",
    "vcpuNum": 2
   },
   {
    "_defaultOrder": 21,
    "_isFastLaunch": false,
    "category": "Compute optimized",
    "gpuNum": 0,
    "memoryGiB": 8,
    "name": "ml.c5.xlarge",
    "vcpuNum": 4
   },
   {
    "_defaultOrder": 22,
    "_isFastLaunch": false,
    "category": "Compute optimized",
    "gpuNum": 0,
    "memoryGiB": 16,
    "name": "ml.c5.2xlarge",
    "vcpuNum": 8
   },
   {
    "_defaultOrder": 23,
    "_isFastLaunch": false,
    "category": "Compute optimized",
    "gpuNum": 0,
    "memoryGiB": 32,
    "name": "ml.c5.4xlarge",
    "vcpuNum": 16
   },
   {
    "_defaultOrder": 24,
    "_isFastLaunch": false,
    "category": "Compute optimized",
    "gpuNum": 0,
    "memoryGiB": 72,
    "name": "ml.c5.9xlarge",
    "vcpuNum": 36
   },
   {
    "_defaultOrder": 25,
    "_isFastLaunch": false,
    "category": "Compute optimized",
    "gpuNum": 0,
    "memoryGiB": 96,
    "name": "ml.c5.12xlarge",
    "vcpuNum": 48
   },
   {
    "_defaultOrder": 26,
    "_isFastLaunch": false,
    "category": "Compute optimized",
    "gpuNum": 0,
    "memoryGiB": 144,
    "name": "ml.c5.18xlarge",
    "vcpuNum": 72
   },
   {
    "_defaultOrder": 27,
    "_isFastLaunch": false,
    "category": "Compute optimized",
    "gpuNum": 0,
    "memoryGiB": 192,
    "name": "ml.c5.24xlarge",
    "vcpuNum": 96
   },
   {
    "_defaultOrder": 28,
    "_isFastLaunch": true,
    "category": "Accelerated computing",
    "gpuNum": 1,
    "memoryGiB": 16,
    "name": "ml.g4dn.xlarge",
    "vcpuNum": 4
   },
   {
    "_defaultOrder": 29,
    "_isFastLaunch": false,
    "category": "Accelerated computing",
    "gpuNum": 1,
    "memoryGiB": 32,
    "name": "ml.g4dn.2xlarge",
    "vcpuNum": 8
   },
   {
    "_defaultOrder": 30,
    "_isFastLaunch": false,
    "category": "Accelerated computing",
    "gpuNum": 1,
    "memoryGiB": 64,
    "name": "ml.g4dn.4xlarge",
    "vcpuNum": 16
   },
   {
    "_defaultOrder": 31,
    "_isFastLaunch": false,
    "category": "Accelerated computing",
    "gpuNum": 1,
    "memoryGiB": 128,
    "name": "ml.g4dn.8xlarge",
    "vcpuNum": 32
   },
   {
    "_defaultOrder": 32,
    "_isFastLaunch": false,
    "category": "Accelerated computing",
    "gpuNum": 4,
    "memoryGiB": 192,
    "name": "ml.g4dn.12xlarge",
    "vcpuNum": 48
   },
   {
    "_defaultOrder": 33,
    "_isFastLaunch": false,
    "category": "Accelerated computing",
    "gpuNum": 1,
    "memoryGiB": 256,
    "name": "ml.g4dn.16xlarge",
    "vcpuNum": 64
   },
   {
    "_defaultOrder": 34,
    "_isFastLaunch": false,
    "category": "Accelerated computing",
    "gpuNum": 1,
    "memoryGiB": 61,
    "name": "ml.p3.2xlarge",
    "vcpuNum": 8
   },
   {
    "_defaultOrder": 35,
    "_isFastLaunch": false,
    "category": "Accelerated computing",
    "gpuNum": 4,
    "memoryGiB": 244,
    "name": "ml.p3.8xlarge",
    "vcpuNum": 32
   },
   {
    "_defaultOrder": 36,
    "_isFastLaunch": false,
    "category": "Accelerated computing",
    "gpuNum": 8,
    "memoryGiB": 488,
    "name": "ml.p3.16xlarge",
    "vcpuNum": 64
   },
   {
    "_defaultOrder": 37,
    "_isFastLaunch": false,
    "category": "Accelerated computing",
    "gpuNum": 8,
    "memoryGiB": 768,
    "name": "ml.p3dn.24xlarge",
    "vcpuNum": 96
   },
   {
    "_defaultOrder": 38,
    "_isFastLaunch": false,
    "category": "Memory Optimized",
    "gpuNum": 0,
    "memoryGiB": 16,
    "name": "ml.r5.large",
    "vcpuNum": 2
   },
   {
    "_defaultOrder": 39,
    "_isFastLaunch": false,
    "category": "Memory Optimized",
    "gpuNum": 0,
    "memoryGiB": 32,
    "name": "ml.r5.xlarge",
    "vcpuNum": 4
   },
   {
    "_defaultOrder": 40,
    "_isFastLaunch": false,
    "category": "Memory Optimized",
    "gpuNum": 0,
    "memoryGiB": 64,
    "name": "ml.r5.2xlarge",
    "vcpuNum": 8
   },
   {
    "_defaultOrder": 41,
    "_isFastLaunch": false,
    "category": "Memory Optimized",
    "gpuNum": 0,
    "memoryGiB": 128,
    "name": "ml.r5.4xlarge",
    "vcpuNum": 16
   },
   {
    "_defaultOrder": 42,
    "_isFastLaunch": false,
    "category": "Memory Optimized",
    "gpuNum": 0,
    "memoryGiB": 256,
    "name": "ml.r5.8xlarge",
    "vcpuNum": 32
   },
   {
    "_defaultOrder": 43,
    "_isFastLaunch": false,
    "category": "Memory Optimized",
    "gpuNum": 0,
    "memoryGiB": 384,
    "name": "ml.r5.12xlarge",
    "vcpuNum": 48
   },
   {
    "_defaultOrder": 44,
    "_isFastLaunch": false,
    "category": "Memory Optimized",
    "gpuNum": 0,
    "memoryGiB": 512,
    "name": "ml.r5.16xlarge",
    "vcpuNum": 64
   },
   {
    "_defaultOrder": 45,
    "_isFastLaunch": false,
    "category": "Memory Optimized",
    "gpuNum": 0,
    "memoryGiB": 768,
    "name": "ml.r5.24xlarge",
    "vcpuNum": 96
   },
   {
    "_defaultOrder": 46,
    "_isFastLaunch": false,
    "category": "Accelerated computing",
    "gpuNum": 1,
    "memoryGiB": 16,
    "name": "ml.g5.xlarge",
    "vcpuNum": 4
   },
   {
    "_defaultOrder": 47,
    "_isFastLaunch": false,
    "category": "Accelerated computing",
    "gpuNum": 1,
    "memoryGiB": 32,
    "name": "ml.g5.2xlarge",
    "vcpuNum": 8
   },
   {
    "_defaultOrder": 48,
    "_isFastLaunch": false,
    "category": "Accelerated computing",
    "gpuNum": 1,
    "memoryGiB": 64,
    "name": "ml.g5.4xlarge",
    "vcpuNum": 16
   },
   {
    "_defaultOrder": 49,
    "_isFastLaunch": false,
    "category": "Accelerated computing",
    "gpuNum": 1,
    "memoryGiB": 128,
    "name": "ml.g5.8xlarge",
    "vcpuNum": 32
   },
   {
    "_defaultOrder": 50,
    "_isFastLaunch": false,
    "category": "Accelerated computing",
    "gpuNum": 1,
    "memoryGiB": 256,
    "name": "ml.g5.16xlarge",
    "vcpuNum": 64
   },
   {
    "_defaultOrder": 51,
    "_isFastLaunch": false,
    "category": "Accelerated computing",
    "gpuNum": 4,
    "memoryGiB": 192,
    "name": "ml.g5.12xlarge",
    "vcpuNum": 48
   },
   {
    "_defaultOrder": 52,
    "_isFastLaunch": false,
    "category": "Accelerated computing",
    "gpuNum": 4,
    "memoryGiB": 384,
    "name": "ml.g5.24xlarge",
    "vcpuNum": 96
   },
   {
    "_defaultOrder": 53,
    "_isFastLaunch": false,
    "category": "Accelerated computing",
    "gpuNum": 8,
    "memoryGiB": 768,
    "name": "ml.g5.48xlarge",
    "vcpuNum": 192
   }
  ],
  "instance_type": "ml.g4dn.xlarge",
  "kernelspec": {
   "display_name": "Python 3 (TensorFlow 2.6 Python 3.8 GPU Optimized)",
   "language": "python",
   "name": "python3__SAGEMAKER_INTERNAL__arn:aws:sagemaker:ap-south-1:394103062818:image/tensorflow-2.6-gpu-py38-cu112-ubuntu20.04-v1"
  },
  "language_info": {
   "codemirror_mode": {
    "name": "ipython",
    "version": 3
   },
   "file_extension": ".py",
   "mimetype": "text/x-python",
   "name": "python",
   "nbconvert_exporter": "python",
   "pygments_lexer": "ipython3",
   "version": "3.8.2"
  }
 },
 "nbformat": 4,
 "nbformat_minor": 5
}
